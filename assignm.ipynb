{
 "cells": [
  {
   "cell_type": "code",
   "execution_count": 1,
   "id": "5f150a8b",
   "metadata": {},
   "outputs": [],
   "source": [
    "import numpy as np\n",
    "from matplotlib import pyplot as plt\n",
    "import random\n",
    "import pandas as pd\n",
    "import sklearn.datasets\n",
    "from sklearn.model_selection import train_test_split"
   ]
  },
  {
   "cell_type": "code",
   "execution_count": 53,
   "id": "8955f46a",
   "metadata": {},
   "outputs": [
    {
     "data": {
      "text/html": [
       "<div>\n",
       "<style scoped>\n",
       "    .dataframe tbody tr th:only-of-type {\n",
       "        vertical-align: middle;\n",
       "    }\n",
       "\n",
       "    .dataframe tbody tr th {\n",
       "        vertical-align: top;\n",
       "    }\n",
       "\n",
       "    .dataframe thead th {\n",
       "        text-align: right;\n",
       "    }\n",
       "</style>\n",
       "<table border=\"1\" class=\"dataframe\">\n",
       "  <thead>\n",
       "    <tr style=\"text-align: right;\">\n",
       "      <th></th>\n",
       "      <th>LW</th>\n",
       "      <th>LD</th>\n",
       "      <th>RW</th>\n",
       "      <th>RD</th>\n",
       "      <th>Balance</th>\n",
       "    </tr>\n",
       "  </thead>\n",
       "  <tbody>\n",
       "    <tr>\n",
       "      <th>0</th>\n",
       "      <td>1</td>\n",
       "      <td>1</td>\n",
       "      <td>1</td>\n",
       "      <td>1</td>\n",
       "      <td>B</td>\n",
       "    </tr>\n",
       "    <tr>\n",
       "      <th>1</th>\n",
       "      <td>1</td>\n",
       "      <td>1</td>\n",
       "      <td>1</td>\n",
       "      <td>2</td>\n",
       "      <td>R</td>\n",
       "    </tr>\n",
       "    <tr>\n",
       "      <th>2</th>\n",
       "      <td>1</td>\n",
       "      <td>1</td>\n",
       "      <td>1</td>\n",
       "      <td>3</td>\n",
       "      <td>R</td>\n",
       "    </tr>\n",
       "    <tr>\n",
       "      <th>3</th>\n",
       "      <td>1</td>\n",
       "      <td>1</td>\n",
       "      <td>1</td>\n",
       "      <td>4</td>\n",
       "      <td>R</td>\n",
       "    </tr>\n",
       "    <tr>\n",
       "      <th>4</th>\n",
       "      <td>1</td>\n",
       "      <td>1</td>\n",
       "      <td>1</td>\n",
       "      <td>5</td>\n",
       "      <td>R</td>\n",
       "    </tr>\n",
       "  </tbody>\n",
       "</table>\n",
       "</div>"
      ],
      "text/plain": [
       "   LW  LD  RW  RD Balance\n",
       "0   1   1   1   1       B\n",
       "1   1   1   1   2       R\n",
       "2   1   1   1   3       R\n",
       "3   1   1   1   4       R\n",
       "4   1   1   1   5       R"
      ]
     },
     "execution_count": 53,
     "metadata": {},
     "output_type": "execute_result"
    }
   ],
   "source": [
    "df=pd.read_csv(\"balance-scale data.csv\",)\n",
    "df.head()"
   ]
  },
  {
   "cell_type": "code",
   "execution_count": 62,
   "id": "cc8d29b0",
   "metadata": {},
   "outputs": [],
   "source": [
    "a=df.iloc[:,[0,1,2,3]].values\n",
    "n=df[\"Balance\"]\n",
    "my_dict = {'B': 1, 'R': 1, 'L': -1}\n",
    "n = [my_dict[zi] for zi in n]\n"
   ]
  },
  {
   "cell_type": "code",
   "execution_count": 58,
   "id": "24326bf4",
   "metadata": {},
   "outputs": [],
   "source": [
    "s=np.zeros(len(a))\n",
    "w=np.zeros(4)\n",
    "b=0\n",
    "threshold=0\n",
    "learning_rate=1\n",
    "epoch=2\n",
    "def Activation(o):\n",
    "    if o<0:\n",
    "        return(-1)\n",
    "    if o>=0:\n",
    "        return(1)\n"
   ]
  },
  {
   "cell_type": "code",
   "execution_count": 61,
   "id": "eb56f5b5",
   "metadata": {},
   "outputs": [
    {
     "name": "stdout",
     "output_type": "stream",
     "text": [
      "(array([152, 182, 186, 278, 279, 338, 381, 438, 468], dtype=int64),)\n"
     ]
    }
   ],
   "source": [
    "for t in range(1,5):\n",
    "    for i in range(len(a)):\n",
    "        sum=0\n",
    "        s[i]=Activation(np.sum((a[i]*w))+b)\n",
    "        if (n[i]*s[i])<=0:\n",
    "            w=w+(0.5*np.multiply(n[i],a[i]))\n",
    "            b=b+n[i]\n",
    "            s[i]=Activation(np.sum((a[i]*w))+b)      \n",
    "\n",
    "#print(a==Y)\n",
    "print(np.where(s!=n))#print(y)\n"
   ]
  },
  {
   "cell_type": "code",
   "execution_count": 60,
   "id": "10f7f0ea",
   "metadata": {},
   "outputs": [
    {
     "name": "stdout",
     "output_type": "stream",
     "text": [
      "[-18.  -14.5  15.5  19. ]\n"
     ]
    }
   ],
   "source": [
    "print(w)"
   ]
  },
  {
   "cell_type": "code",
   "execution_count": null,
   "id": "8121a6c8",
   "metadata": {},
   "outputs": [],
   "source": []
  },
  {
   "cell_type": "code",
   "execution_count": null,
   "id": "9d0e3c86",
   "metadata": {},
   "outputs": [],
   "source": []
  }
 ],
 "metadata": {
  "kernelspec": {
   "display_name": "Python 3",
   "language": "python",
   "name": "python3"
  },
  "language_info": {
   "codemirror_mode": {
    "name": "ipython",
    "version": 3
   },
   "file_extension": ".py",
   "mimetype": "text/x-python",
   "name": "python",
   "nbconvert_exporter": "python",
   "pygments_lexer": "ipython3",
   "version": "3.8.8"
  }
 },
 "nbformat": 4,
 "nbformat_minor": 5
}
