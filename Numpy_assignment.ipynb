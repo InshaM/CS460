{
 "cells": [
  {
   "cell_type": "code",
   "execution_count": 208,
   "id": "6a6c45de",
   "metadata": {},
   "outputs": [],
   "source": [
    "#1. Import the numbpy package under the name np\n",
    "import numpy as np"
   ]
  },
  {
   "cell_type": "code",
   "execution_count": 3,
   "id": "b26a20d9",
   "metadata": {},
   "outputs": [
    {
     "name": "stdout",
     "output_type": "stream",
     "text": [
      "1.20.1\n",
      "blas_mkl_info:\n",
      "    libraries = ['mkl_rt']\n",
      "    library_dirs = ['C:/Users/Insha/anaconda3\\\\Library\\\\lib']\n",
      "    define_macros = [('SCIPY_MKL_H', None), ('HAVE_CBLAS', None)]\n",
      "    include_dirs = ['C:/Users/Insha/anaconda3\\\\Library\\\\include']\n",
      "blas_opt_info:\n",
      "    libraries = ['mkl_rt']\n",
      "    library_dirs = ['C:/Users/Insha/anaconda3\\\\Library\\\\lib']\n",
      "    define_macros = [('SCIPY_MKL_H', None), ('HAVE_CBLAS', None)]\n",
      "    include_dirs = ['C:/Users/Insha/anaconda3\\\\Library\\\\include']\n",
      "lapack_mkl_info:\n",
      "    libraries = ['mkl_rt']\n",
      "    library_dirs = ['C:/Users/Insha/anaconda3\\\\Library\\\\lib']\n",
      "    define_macros = [('SCIPY_MKL_H', None), ('HAVE_CBLAS', None)]\n",
      "    include_dirs = ['C:/Users/Insha/anaconda3\\\\Library\\\\include']\n",
      "lapack_opt_info:\n",
      "    libraries = ['mkl_rt']\n",
      "    library_dirs = ['C:/Users/Insha/anaconda3\\\\Library\\\\lib']\n",
      "    define_macros = [('SCIPY_MKL_H', None), ('HAVE_CBLAS', None)]\n",
      "    include_dirs = ['C:/Users/Insha/anaconda3\\\\Library\\\\include']\n"
     ]
    }
   ],
   "source": [
    "#2. Print the numpy version and the configuration\n",
    "print(np.__version__)\n",
    "np.show_config()"
   ]
  },
  {
   "cell_type": "code",
   "execution_count": 79,
   "id": "d579ea53",
   "metadata": {},
   "outputs": [
    {
     "name": "stdout",
     "output_type": "stream",
     "text": [
      "[0. 0. 0. 0. 0. 0. 0. 0. 0. 0.]\n"
     ]
    }
   ],
   "source": [
    "#3. Create a null vector of size 10\n",
    "R=np.zeros(10)\n",
    "print (R)"
   ]
  },
  {
   "cell_type": "code",
   "execution_count": 80,
   "id": "22468976",
   "metadata": {},
   "outputs": [
    {
     "name": "stdout",
     "output_type": "stream",
     "text": [
      "1800 bytes\n"
     ]
    }
   ],
   "source": [
    "#4. How to find the memory size of any array\n",
    "R= np.zeros((15,15))\n",
    "print(\"%d bytes\" % (R.size * R.itemsize))"
   ]
  },
  {
   "cell_type": "code",
   "execution_count": 210,
   "id": "8b95221e",
   "metadata": {},
   "outputs": [
    {
     "ename": "SyntaxError",
     "evalue": "invalid syntax (<ipython-input-210-9cdb5d88c94f>, line 2)",
     "output_type": "error",
     "traceback": [
      "\u001b[1;36m  File \u001b[1;32m\"<ipython-input-210-9cdb5d88c94f>\"\u001b[1;36m, line \u001b[1;32m2\u001b[0m\n\u001b[1;33m    run `python -c \"import numpy; numpy.info(numpy.add)\"`\u001b[0m\n\u001b[1;37m        ^\u001b[0m\n\u001b[1;31mSyntaxError\u001b[0m\u001b[1;31m:\u001b[0m invalid syntax\n"
     ]
    }
   ],
   "source": [
    "# How to get the documentation of the numpy add function from the command line\n",
    "run `python -c \"import numpy; numpy.info(numpy.add)\"`"
   ]
  },
  {
   "cell_type": "code",
   "execution_count": 81,
   "id": "5c538ca8",
   "metadata": {},
   "outputs": [
    {
     "name": "stdout",
     "output_type": "stream",
     "text": [
      "[0. 0. 0. 0. 1. 0. 0. 0. 0. 0.]\n"
     ]
    }
   ],
   "source": [
    "#6. Create a null vector of size 10 but the fifth value which is 1\n",
    "R = np.zeros(10)\n",
    "R[4] = 1\n",
    "print(R)"
   ]
  },
  {
   "cell_type": "code",
   "execution_count": 82,
   "id": "3fce28cc",
   "metadata": {},
   "outputs": [
    {
     "name": "stdout",
     "output_type": "stream",
     "text": [
      "[10 11 12 13 14 15 16 17 18 19 20 21 22 23 24 25 26 27 28 29 30 31 32 33\n",
      " 34 35 36 37 38 39 40 41 42 43 44 45 46 47 48 49]\n"
     ]
    }
   ],
   "source": [
    "#7. Create a vector with values ranging from 10 to 49\n",
    "R = np.arange(10,50)\n",
    "print (R)"
   ]
  },
  {
   "cell_type": "code",
   "execution_count": 84,
   "id": "754bc9e1",
   "metadata": {},
   "outputs": [
    {
     "name": "stdout",
     "output_type": "stream",
     "text": [
      "[19 18 17 16 15 14 13 12 11 10  9  8  7  6  5  4  3  2  1  0]\n"
     ]
    }
   ],
   "source": [
    "#8. Reverse a vector( first element becomes last)\n",
    "R = np.arange(20)\n",
    "R = R[::-1]\n",
    "print(R)"
   ]
  },
  {
   "cell_type": "code",
   "execution_count": 85,
   "id": "07cdb311",
   "metadata": {},
   "outputs": [
    {
     "name": "stdout",
     "output_type": "stream",
     "text": [
      "[[0 1 2]\n",
      " [3 4 5]\n",
      " [6 7 8]]\n"
     ]
    }
   ],
   "source": [
    "#9. Create a 3x3 matrix with values ranging from 0 to 8\n",
    "R=np.arange(9).reshape(3,3)\n",
    "print(R)"
   ]
  },
  {
   "cell_type": "code",
   "execution_count": 86,
   "id": "50dcaa01",
   "metadata": {},
   "outputs": [
    {
     "name": "stdout",
     "output_type": "stream",
     "text": [
      "(array([0, 1, 4], dtype=int64),)\n"
     ]
    }
   ],
   "source": [
    "#10. Find indices of non-zero elements from [1,2,0,0,4,0]\n",
    "R=np.nonzero([1,2,0,0,4,0])\n",
    "print(R)"
   ]
  },
  {
   "cell_type": "code",
   "execution_count": 87,
   "id": "49eef3e6",
   "metadata": {
    "scrolled": true
   },
   "outputs": [
    {
     "name": "stdout",
     "output_type": "stream",
     "text": [
      "[[1. 0. 0.]\n",
      " [0. 1. 0.]\n",
      " [0. 0. 1.]]\n"
     ]
    }
   ],
   "source": [
    "#11. Create a 3x3 identity matrix\n",
    "R=np.eye(3)\n",
    "print(R)"
   ]
  },
  {
   "cell_type": "code",
   "execution_count": 88,
   "id": "814ce878",
   "metadata": {},
   "outputs": [
    {
     "name": "stdout",
     "output_type": "stream",
     "text": [
      "[[[0.50802133 0.27229207 0.83962785]\n",
      "  [0.43206486 0.05184196 0.29876569]\n",
      "  [0.00553181 0.66005046 0.97757816]]\n",
      "\n",
      " [[0.17969525 0.45509566 0.87789604]\n",
      "  [0.01464913 0.42156138 0.06420388]\n",
      "  [0.43336567 0.78864545 0.85537025]]\n",
      "\n",
      " [[0.71004085 0.84439328 0.62181487]\n",
      "  [0.64692437 0.89881173 0.8823197 ]\n",
      "  [0.35074455 0.96535017 0.32493029]]]\n"
     ]
    }
   ],
   "source": [
    "#12. Create a 3x3x3 array with random values\n",
    "R=np.random.random((3,3,3))\n",
    "print(R)"
   ]
  },
  {
   "cell_type": "code",
   "execution_count": 90,
   "id": "02dc3f88",
   "metadata": {},
   "outputs": [
    {
     "name": "stdout",
     "output_type": "stream",
     "text": [
      "0.009124797537419571 0.9985348847069483\n"
     ]
    }
   ],
   "source": [
    "#13. Create a 10x10 arrat with random value and find the minimum and maximum values\n",
    "R=np.random.random((10,10))\n",
    "Rmn, Rmx=R.min(), R.max()\n",
    "print(Rmn,Rmx)"
   ]
  },
  {
   "cell_type": "code",
   "execution_count": 91,
   "id": "e21fdb9f",
   "metadata": {},
   "outputs": [
    {
     "name": "stdout",
     "output_type": "stream",
     "text": [
      "0.40565802345749996\n"
     ]
    }
   ],
   "source": [
    "#14. Create a random vector of size 30 and find the mean value\n",
    "R=np.random.random(30)\n",
    "m=R.mean()\n",
    "print(m)"
   ]
  },
  {
   "cell_type": "code",
   "execution_count": 92,
   "id": "795447a6",
   "metadata": {},
   "outputs": [
    {
     "name": "stdout",
     "output_type": "stream",
     "text": [
      "[[1. 1. 1. 1. 1. 1. 1. 1. 1. 1.]\n",
      " [1. 0. 0. 0. 0. 0. 0. 0. 0. 1.]\n",
      " [1. 0. 0. 0. 0. 0. 0. 0. 0. 1.]\n",
      " [1. 0. 0. 0. 0. 0. 0. 0. 0. 1.]\n",
      " [1. 0. 0. 0. 0. 0. 0. 0. 0. 1.]\n",
      " [1. 0. 0. 0. 0. 0. 0. 0. 0. 1.]\n",
      " [1. 0. 0. 0. 0. 0. 0. 0. 0. 1.]\n",
      " [1. 0. 0. 0. 0. 0. 0. 0. 0. 1.]\n",
      " [1. 0. 0. 0. 0. 0. 0. 0. 0. 1.]\n",
      " [1. 1. 1. 1. 1. 1. 1. 1. 1. 1.]]\n"
     ]
    }
   ],
   "source": [
    "#15. Create a 2d array with 1 on the border and 0 inside \n",
    "R=np.ones((10,10))\n",
    "R[1:-1,1:-1] = 0\n",
    "print (R)"
   ]
  },
  {
   "cell_type": "code",
   "execution_count": 93,
   "id": "c53113e7",
   "metadata": {},
   "outputs": [
    {
     "name": "stdout",
     "output_type": "stream",
     "text": [
      "[[0. 0. 0. 0. 0. 0. 0. 0. 0. 0. 0. 0. 0. 0. 0. 0. 0.]\n",
      " [0. 1. 1. 1. 1. 1. 1. 1. 1. 1. 1. 1. 1. 1. 1. 1. 0.]\n",
      " [0. 1. 1. 1. 1. 1. 1. 1. 1. 1. 1. 1. 1. 1. 1. 1. 0.]\n",
      " [0. 1. 1. 1. 1. 1. 1. 1. 1. 1. 1. 1. 1. 1. 1. 1. 0.]\n",
      " [0. 1. 1. 1. 1. 1. 1. 1. 1. 1. 1. 1. 1. 1. 1. 1. 0.]\n",
      " [0. 1. 1. 1. 1. 1. 1. 1. 1. 1. 1. 1. 1. 1. 1. 1. 0.]\n",
      " [0. 1. 1. 1. 1. 1. 1. 1. 1. 1. 1. 1. 1. 1. 1. 1. 0.]\n",
      " [0. 1. 1. 1. 1. 1. 1. 1. 1. 1. 1. 1. 1. 1. 1. 1. 0.]\n",
      " [0. 1. 1. 1. 1. 1. 1. 1. 1. 1. 1. 1. 1. 1. 1. 1. 0.]\n",
      " [0. 1. 1. 1. 1. 1. 1. 1. 1. 1. 1. 1. 1. 1. 1. 1. 0.]\n",
      " [0. 1. 1. 1. 1. 1. 1. 1. 1. 1. 1. 1. 1. 1. 1. 1. 0.]\n",
      " [0. 1. 1. 1. 1. 1. 1. 1. 1. 1. 1. 1. 1. 1. 1. 1. 0.]\n",
      " [0. 1. 1. 1. 1. 1. 1. 1. 1. 1. 1. 1. 1. 1. 1. 1. 0.]\n",
      " [0. 1. 1. 1. 1. 1. 1. 1. 1. 1. 1. 1. 1. 1. 1. 1. 0.]\n",
      " [0. 1. 1. 1. 1. 1. 1. 1. 1. 1. 1. 1. 1. 1. 1. 1. 0.]\n",
      " [0. 1. 1. 1. 1. 1. 1. 1. 1. 1. 1. 1. 1. 1. 1. 1. 0.]\n",
      " [0. 0. 0. 0. 0. 0. 0. 0. 0. 0. 0. 0. 0. 0. 0. 0. 0.]]\n"
     ]
    }
   ],
   "source": [
    "#16. How to add a border(filled with 0's) around an existing array?\n",
    "R = np.ones((15,15))\n",
    "R = np.pad(R, pad_width=1, mode='constant', constant_values=0)\n",
    "print(R)\n"
   ]
  },
  {
   "cell_type": "code",
   "execution_count": 52,
   "id": "f92273ed",
   "metadata": {},
   "outputs": [
    {
     "name": "stdout",
     "output_type": "stream",
     "text": [
      "nan\n",
      "False\n",
      "False\n",
      "nan\n",
      "True\n",
      "False\n"
     ]
    }
   ],
   "source": [
    "#17. What is the result of the following expression\n",
    "# Adding the print command infront of each of them gives:\n",
    "print(0*np.nan)\n",
    "print(np.nan == np.nan)\n",
    "print(np.inf > np.nan)\n",
    "print(np.nan - np.nan)\n",
    "print(np.nan in set([np.nan]))\n",
    "print(0.3 == 3*0.1)\n",
    "\n"
   ]
  },
  {
   "cell_type": "code",
   "execution_count": 94,
   "id": "22469f9e",
   "metadata": {},
   "outputs": [
    {
     "name": "stdout",
     "output_type": "stream",
     "text": [
      "[[0 0 0 0 0]\n",
      " [1 0 0 0 0]\n",
      " [0 2 0 0 0]\n",
      " [0 0 3 0 0]\n",
      " [0 0 0 4 0]]\n"
     ]
    }
   ],
   "source": [
    "#18. Create a 5x5 matrix with values 1,2,3,4 just below the diagonal\n",
    "R = np.diag(1+np.arange(4),k =-1)\n",
    "print(R)\n"
   ]
  },
  {
   "cell_type": "code",
   "execution_count": 95,
   "id": "087fcf4c",
   "metadata": {},
   "outputs": [
    {
     "name": "stdout",
     "output_type": "stream",
     "text": [
      "[[0 1 0 1 0 1 0 1]\n",
      " [1 0 1 0 1 0 1 0]\n",
      " [0 1 0 1 0 1 0 1]\n",
      " [1 0 1 0 1 0 1 0]\n",
      " [0 1 0 1 0 1 0 1]\n",
      " [1 0 1 0 1 0 1 0]\n",
      " [0 1 0 1 0 1 0 1]\n",
      " [1 0 1 0 1 0 1 0]]\n"
     ]
    }
   ],
   "source": [
    "#19. Create a 8x8 matrix and fill it with a checkerboard pattern\n",
    "R= np.zeros((8,8),dtype=int)\n",
    "R[1::2,::2] = 1\n",
    "R[::2,1::2] = 1\n",
    "print(R)"
   ]
  },
  {
   "cell_type": "code",
   "execution_count": 203,
   "id": "1061bf6d",
   "metadata": {},
   "outputs": [
    {
     "name": "stdout",
     "output_type": "stream",
     "text": [
      "(1, 5, 3)\n"
     ]
    }
   ],
   "source": [
    "#20. Consider a (6,7,8) shape array, what is the index(x,y,z) of the 100th element?\n",
    "print(np.unravel_index(99,(6,7,8)))"
   ]
  },
  {
   "cell_type": "code",
   "execution_count": 96,
   "id": "80c0ce88",
   "metadata": {},
   "outputs": [
    {
     "name": "stdout",
     "output_type": "stream",
     "text": [
      "[[0 1 0 1 0 1 0 1]\n",
      " [1 0 1 0 1 0 1 0]\n",
      " [0 1 0 1 0 1 0 1]\n",
      " [1 0 1 0 1 0 1 0]\n",
      " [0 1 0 1 0 1 0 1]\n",
      " [1 0 1 0 1 0 1 0]\n",
      " [0 1 0 1 0 1 0 1]\n",
      " [1 0 1 0 1 0 1 0]]\n"
     ]
    }
   ],
   "source": [
    "#21. Create a checkerboard 8x8 matrix using the tile function\n",
    "R = np.tile (np.array([[0,1],[1,0]]), (4,4))\n",
    "print(R)"
   ]
  },
  {
   "cell_type": "code",
   "execution_count": 97,
   "id": "4d21e271",
   "metadata": {},
   "outputs": [
    {
     "name": "stdout",
     "output_type": "stream",
     "text": [
      "[[-1.52979044  0.01857737  1.01538481  0.76951612  0.45475159]\n",
      " [ 1.5195554   0.52981627 -1.67030402 -1.21004871 -0.25748612]\n",
      " [ 1.31048331 -0.69897837 -0.81070719  1.1722971   1.14485273]\n",
      " [-1.58818184 -0.37521613  0.56795153 -0.01209757  0.2410342 ]\n",
      " [-0.66788946  0.3454421  -1.45468473 -0.39270824  1.57843027]]\n"
     ]
    }
   ],
   "source": [
    "#22. Normalize a 5x5 random matrix\n",
    "R = np.random.random((5,5))\n",
    "R = (R-np.mean(R))/(np.std(R))\n",
    "print(R)"
   ]
  },
  {
   "cell_type": "code",
   "execution_count": 212,
   "id": "c14a70a3",
   "metadata": {},
   "outputs": [],
   "source": [
    "#23. Create a custom dtype that describes a colour as four unsigned bytes(RGBA)\n",
    "color = np.dtype([(\"r\", np.ubyte),\n",
    "                  (\"g\", np.ubyte),\n",
    "                  (\"b\", np.ubyte),\n",
    "                  (\"a\", np.ubyte)])"
   ]
  },
  {
   "cell_type": "code",
   "execution_count": 98,
   "id": "e35bb05c",
   "metadata": {},
   "outputs": [
    {
     "name": "stdout",
     "output_type": "stream",
     "text": [
      "[[3. 3.]\n",
      " [3. 3.]\n",
      " [3. 3.]\n",
      " [3. 3.]\n",
      " [3. 3.]]\n"
     ]
    }
   ],
   "source": [
    "#24. Multiply a 5x3 matrix by a 3x2 matrix( real matrix product)\n",
    "R = np.dot(np.ones((5,3)), np.ones((3,2)))\n",
    "print(R)"
   ]
  },
  {
   "cell_type": "code",
   "execution_count": 214,
   "id": "3bff95be",
   "metadata": {},
   "outputs": [
    {
     "name": "stdout",
     "output_type": "stream",
     "text": [
      "[ 0  1  2  3 -4 -5 -6 -7 -8  9 10]\n"
     ]
    }
   ],
   "source": [
    "#25. Given a 1D array, negate all elements which are between 3 and 8, in place\n",
    "R = np.arange(11)\n",
    "R[(3<R) & (R<=8)] *= -1\n",
    "print(R)"
   ]
  },
  {
   "cell_type": "code",
   "execution_count": 80,
   "id": "c2f30465",
   "metadata": {},
   "outputs": [
    {
     "name": "stdout",
     "output_type": "stream",
     "text": [
      "9\n",
      "10\n"
     ]
    }
   ],
   "source": [
    "#26. What is the output of the following script?\n",
    "#Author:Jake VanderPlas\n",
    "print(sum(range(5),-1))\n",
    "from numpy import*\n",
    "print(sum(range(5),-1))"
   ]
  },
  {
   "cell_type": "code",
   "execution_count": 217,
   "id": "25ec0a25",
   "metadata": {},
   "outputs": [],
   "source": [
    "#27. Consider an integer vector Z, which of these expressions are legal?\n",
    "#Z**Z\n",
    "#Z<-Z\n",
    "#1j*Z\n",
    "#Z/1/1\n",
    "#Z<Z>Z"
   ]
  },
  {
   "cell_type": "code",
   "execution_count": 92,
   "id": "cb63ecb9",
   "metadata": {},
   "outputs": [
    {
     "name": "stdout",
     "output_type": "stream",
     "text": [
      "nan\n",
      "0\n",
      "[-2.14748365e+09]\n"
     ]
    },
    {
     "name": "stderr",
     "output_type": "stream",
     "text": [
      "<ipython-input-92-d5d689649c64>:3: RuntimeWarning: invalid value encountered in true_divide\n",
      "  print(np.array(0)/np.array(0))\n",
      "<ipython-input-92-d5d689649c64>:4: RuntimeWarning: divide by zero encountered in floor_divide\n",
      "  print(np.array(0)//np.array(0))\n"
     ]
    }
   ],
   "source": [
    "#28. What is the result of the following expressions?\n",
    "#Using print command for each of them gives:\n",
    "print(np.array(0)/np.array(0))\n",
    "print(np.array(0)//np.array(0))\n",
    "print(np.array([np.nan]).astype(int).astype(float))"
   ]
  },
  {
   "cell_type": "code",
   "execution_count": 101,
   "id": "f81436c8",
   "metadata": {
    "scrolled": true
   },
   "outputs": [
    {
     "name": "stdout",
     "output_type": "stream",
     "text": [
      "[-9. -4. -6. -7. -1. -7. -9. -3.  5.  2.]\n"
     ]
    }
   ],
   "source": [
    "#29. How to round away from zero a float array?\n",
    "R = np.random.uniform(-10,+10,10)\n",
    "print(np.copysign(np.ceil(np.abs(R)), R))\n"
   ]
  },
  {
   "cell_type": "code",
   "execution_count": 102,
   "id": "aac355c6",
   "metadata": {},
   "outputs": [
    {
     "name": "stdout",
     "output_type": "stream",
     "text": [
      "[0 5 7 8 9]\n"
     ]
    }
   ],
   "source": [
    "#30. How to find common values between two arrays?\n",
    "R1 = np.random.randint(0,10,10)\n",
    "R2 = np.random.randint(0,10,10)\n",
    "print(np.intersect1d(R1,R2))"
   ]
  },
  {
   "cell_type": "code",
   "execution_count": 104,
   "id": "9fe2b633",
   "metadata": {},
   "outputs": [],
   "source": [
    "#31. How to ignore all numby warnings (not recommended)?\n",
    "defaults = np.seterr(all= \"ignore\")\n",
    "R = np.ones(1)/0\n",
    "_ = np.seterr(**defaults)\n",
    "\n",
    "#with a context manager\n",
    "with np.errstate(all='ignore'):\n",
    "    np.arange(3)/0"
   ]
  },
  {
   "cell_type": "code",
   "execution_count": 218,
   "id": "e12ccda4",
   "metadata": {},
   "outputs": [
    {
     "name": "stdout",
     "output_type": "stream",
     "text": [
      "False\n"
     ]
    },
    {
     "name": "stderr",
     "output_type": "stream",
     "text": [
      "<ipython-input-218-41b21578ae12>:2: RuntimeWarning: invalid value encountered in sqrt\n",
      "  print(np.sqrt(-1)==np.emath.sqrt(-1))\n"
     ]
    }
   ],
   "source": [
    "#32. Is the following expressions true?\n",
    "print(np.sqrt(-1)==np.emath.sqrt(-1))"
   ]
  },
  {
   "cell_type": "code",
   "execution_count": 108,
   "id": "52c5f48d",
   "metadata": {},
   "outputs": [
    {
     "name": "stdout",
     "output_type": "stream",
     "text": [
      "2021-09-09\n",
      "2021-09-10\n",
      "2021-09-11\n"
     ]
    }
   ],
   "source": [
    "#33. How to get the dates of yesterday, today and tomorrow?\n",
    "yesterday = np.datetime64('today', 'D') - np.timedelta64(1, 'D')\n",
    "today = np.datetime64('today','D')\n",
    "tomorrow = np.datetime64('today', 'D')+np.timedelta64(1, 'D')\n",
    "print(yesterday)\n",
    "print(today)\n",
    "print(tomorrow)\n"
   ]
  },
  {
   "cell_type": "code",
   "execution_count": 105,
   "id": "a5c19d9e",
   "metadata": {},
   "outputs": [
    {
     "name": "stdout",
     "output_type": "stream",
     "text": [
      "['2016-07-01' '2016-07-02' '2016-07-03' '2016-07-04' '2016-07-05'\n",
      " '2016-07-06' '2016-07-07' '2016-07-08' '2016-07-09' '2016-07-10'\n",
      " '2016-07-11' '2016-07-12' '2016-07-13' '2016-07-14' '2016-07-15'\n",
      " '2016-07-16' '2016-07-17' '2016-07-18' '2016-07-19' '2016-07-20'\n",
      " '2016-07-21' '2016-07-22' '2016-07-23' '2016-07-24' '2016-07-25'\n",
      " '2016-07-26' '2016-07-27' '2016-07-28' '2016-07-29' '2016-07-30'\n",
      " '2016-07-31']\n"
     ]
    }
   ],
   "source": [
    "#34. How to get all the dates correspoding to the month of July 2016?\n",
    "R=np.arange('2016-07', '2016-08', dtype='datetime64[D]')\n",
    "print(R)"
   ]
  },
  {
   "cell_type": "code",
   "execution_count": 106,
   "id": "e01ced87",
   "metadata": {},
   "outputs": [
    {
     "data": {
      "text/plain": [
       "array([-1.5, -1.5, -1.5])"
      ]
     },
     "execution_count": 106,
     "metadata": {},
     "output_type": "execute_result"
    }
   ],
   "source": [
    "#35. How to compute((A+B)*(-A/2)) in place (without copy)?\n",
    "A=np.ones(3)*1\n",
    "B=np.ones(3)*2\n",
    "np.add(A,B, out=B)\n",
    "np.divide(A,2,out=A)\n",
    "np.negative(A,out=A)\n",
    "np.multiply(A,B, out=A)"
   ]
  },
  {
   "cell_type": "code",
   "execution_count": 107,
   "id": "236b9e7f",
   "metadata": {},
   "outputs": [
    {
     "name": "stdout",
     "output_type": "stream",
     "text": [
      "[1. 4. 3. 3. 7. 9. 4. 4. 3. 2.]\n",
      "[1. 4. 3. 3. 7. 9. 4. 4. 3. 2.]\n",
      "[1. 4. 3. 3. 7. 9. 4. 4. 3. 2.]\n",
      "[1. 4. 3. 3. 7. 9. 4. 4. 3. 2.]\n"
     ]
    }
   ],
   "source": [
    "#36. Extract the integer part of a random array of positive numbers using 4 different methods?\n",
    "R=np.random.uniform(0,10,10)\n",
    "print(R-R%1)\n",
    "print(np.trunc(R))\n",
    "print(np.ceil(R)-1)\n",
    "print(np.floor(R))"
   ]
  },
  {
   "cell_type": "code",
   "execution_count": 108,
   "id": "86fe861c",
   "metadata": {},
   "outputs": [
    {
     "name": "stdout",
     "output_type": "stream",
     "text": [
      "[[0. 1. 2. 3. 4.]\n",
      " [0. 1. 2. 3. 4.]\n",
      " [0. 1. 2. 3. 4.]\n",
      " [0. 1. 2. 3. 4.]\n",
      " [0. 1. 2. 3. 4.]]\n"
     ]
    }
   ],
   "source": [
    "#37. Create a 5x5 matrix with row values ranging from 0 to 4\n",
    "R = np.zeros((5,5))\n",
    "R+= np.arange(5)\n",
    "print(R)"
   ]
  },
  {
   "cell_type": "code",
   "execution_count": 112,
   "id": "72eca9d6",
   "metadata": {},
   "outputs": [
    {
     "name": "stdout",
     "output_type": "stream",
     "text": [
      "[0. 1. 2. 3. 4. 5. 6. 7. 8. 9.]\n"
     ]
    }
   ],
   "source": [
    "#38. Consider a generator function that generates 10 integers and use it to build an array\n",
    "def generate():\n",
    "    for x in range(10):\n",
    "        yield x\n",
    "R = np.fromiter(generate(),dtype=float,count=-1)\n",
    "print(R)"
   ]
  },
  {
   "cell_type": "code",
   "execution_count": 113,
   "id": "01492723",
   "metadata": {},
   "outputs": [
    {
     "name": "stdout",
     "output_type": "stream",
     "text": [
      "[0.09090909 0.18181818 0.27272727 0.36363636 0.45454545 0.54545455\n",
      " 0.63636364 0.72727273 0.81818182 0.90909091]\n"
     ]
    }
   ],
   "source": [
    "#39. Create a vector of size 10 with values ranging from 0 to 1, both excluded\n",
    "R = np.linspace(0,1,11,endpoint=False)[1:]\n",
    "print(R)"
   ]
  },
  {
   "cell_type": "code",
   "execution_count": 114,
   "id": "4f453198",
   "metadata": {
    "scrolled": true
   },
   "outputs": [
    {
     "name": "stdout",
     "output_type": "stream",
     "text": [
      "[0.13011851 0.19986774 0.27143099 0.42709954 0.44820877 0.73167434\n",
      " 0.81832695 0.89234511 0.93948307 0.96848063]\n"
     ]
    }
   ],
   "source": [
    "#40. Create a random vector of size 10 and sort it\n",
    "R=np.random.random(10)\n",
    "R.sort()\n",
    "print(R)"
   ]
  },
  {
   "cell_type": "code",
   "execution_count": 115,
   "id": "db323196",
   "metadata": {},
   "outputs": [
    {
     "data": {
      "text/plain": [
       "300"
      ]
     },
     "execution_count": 115,
     "metadata": {},
     "output_type": "execute_result"
    }
   ],
   "source": [
    "#41. How to sum a small array faster than np.sum?\n",
    "R=np.arange(25)\n",
    "np.add.reduce(R)"
   ]
  },
  {
   "cell_type": "code",
   "execution_count": 116,
   "id": "60f3da6d",
   "metadata": {},
   "outputs": [
    {
     "name": "stdout",
     "output_type": "stream",
     "text": [
      "False\n",
      "False\n"
     ]
    }
   ],
   "source": [
    "#42. Consider two random array A and B, check if they are equal\n",
    "A = np.random.randint(3,6,2)\n",
    "B = np.random.randint(3,6,2)\n",
    "\n",
    "equal = np.allclose(A,B)\n",
    "print(equal)\n",
    "\n",
    "equal = np.array_equal(A,B)\n",
    "print(equal)"
   ]
  },
  {
   "cell_type": "code",
   "execution_count": 117,
   "id": "bc137ada",
   "metadata": {},
   "outputs": [
    {
     "ename": "ValueError",
     "evalue": "assignment destination is read-only",
     "output_type": "error",
     "traceback": [
      "\u001b[1;31m---------------------------------------------------------------------------\u001b[0m",
      "\u001b[1;31mValueError\u001b[0m                                Traceback (most recent call last)",
      "\u001b[1;32m<ipython-input-117-e4bd44b72c49>\u001b[0m in \u001b[0;36m<module>\u001b[1;34m\u001b[0m\n\u001b[0;32m      2\u001b[0m \u001b[0mR\u001b[0m\u001b[1;33m=\u001b[0m \u001b[0mnp\u001b[0m\u001b[1;33m.\u001b[0m\u001b[0mzeros\u001b[0m\u001b[1;33m(\u001b[0m\u001b[1;36m10\u001b[0m\u001b[1;33m)\u001b[0m\u001b[1;33m\u001b[0m\u001b[1;33m\u001b[0m\u001b[0m\n\u001b[0;32m      3\u001b[0m \u001b[0mR\u001b[0m\u001b[1;33m.\u001b[0m\u001b[0mflags\u001b[0m\u001b[1;33m.\u001b[0m\u001b[0mwriteable\u001b[0m \u001b[1;33m=\u001b[0m \u001b[1;32mFalse\u001b[0m\u001b[1;33m\u001b[0m\u001b[1;33m\u001b[0m\u001b[0m\n\u001b[1;32m----> 4\u001b[1;33m \u001b[0mR\u001b[0m\u001b[1;33m[\u001b[0m\u001b[1;36m0\u001b[0m\u001b[1;33m]\u001b[0m \u001b[1;33m=\u001b[0m \u001b[1;36m1\u001b[0m\u001b[1;33m\u001b[0m\u001b[1;33m\u001b[0m\u001b[0m\n\u001b[0m",
      "\u001b[1;31mValueError\u001b[0m: assignment destination is read-only"
     ]
    }
   ],
   "source": [
    "#43. Make an immutable(read-only)\n",
    "R= np.zeros(10)\n",
    "R.flags.writeable = False\n",
    "R[0] = 1\n"
   ]
  },
  {
   "cell_type": "code",
   "execution_count": 119,
   "id": "d12e8745",
   "metadata": {},
   "outputs": [
    {
     "name": "stdout",
     "output_type": "stream",
     "text": [
      "[1.21527589 0.65243141 0.97151846 0.98148469 0.62845079 1.07650059\n",
      " 0.93107537 1.03010582 0.2562969  1.0588769 ]\n",
      "[0.61412244 0.71045747 1.48589173 0.21116577 1.29505547 0.4137126\n",
      " 0.54893111 0.25984201 0.69007096 0.60032961]\n"
     ]
    }
   ],
   "source": [
    "#44. Consider a randoM, 10x2 matrix representing cartesian coordinates, convert them to polar coordinates\n",
    "R= np.random.random((10,2))\n",
    "X,Y = R[:,0], R[:,1]\n",
    "B = np.sqrt(X**2+Y**2)\n",
    "T = np.arctan2(Y,X)\n",
    "print(B)\n",
    "print(T)"
   ]
  },
  {
   "cell_type": "code",
   "execution_count": 120,
   "id": "37a256e8",
   "metadata": {},
   "outputs": [
    {
     "name": "stdout",
     "output_type": "stream",
     "text": [
      "[0.45470305 0.305598   0.08388824 0.03980955 0.4792142  0.36394922\n",
      " 0.95311749 0.         0.29970884 0.0055359 ]\n"
     ]
    }
   ],
   "source": [
    "#45. Create random vector of size 10 and replace the maximum value by 0\n",
    "R = np.random.random(10)\n",
    "R[R.argmax()] = 0\n",
    "print(R)"
   ]
  },
  {
   "cell_type": "code",
   "execution_count": 122,
   "id": "76fbf45c",
   "metadata": {},
   "outputs": [
    {
     "name": "stdout",
     "output_type": "stream",
     "text": [
      "[[(0.  , 0.  ) (0.25, 0.  ) (0.5 , 0.  ) (0.75, 0.  ) (1.  , 0.  )]\n",
      " [(0.  , 0.25) (0.25, 0.25) (0.5 , 0.25) (0.75, 0.25) (1.  , 0.25)]\n",
      " [(0.  , 0.5 ) (0.25, 0.5 ) (0.5 , 0.5 ) (0.75, 0.5 ) (1.  , 0.5 )]\n",
      " [(0.  , 0.75) (0.25, 0.75) (0.5 , 0.75) (0.75, 0.75) (1.  , 0.75)]\n",
      " [(0.  , 1.  ) (0.25, 1.  ) (0.5 , 1.  ) (0.75, 1.  ) (1.  , 1.  )]]\n"
     ]
    }
   ],
   "source": [
    "#46. Create a structured array with x and y coordinates covering the [0,1]x[0,1area]\n",
    "R = np.zeros((5,5), [('x', float),('y', float)])\n",
    "R['x'], R['y'] = np.meshgrid(np.linspace(0,1,5),\n",
    "                            np.linspace(0,1,5))\n",
    "print(R)"
   ]
  },
  {
   "cell_type": "code",
   "execution_count": 136,
   "id": "1a2e19df",
   "metadata": {},
   "outputs": [
    {
     "name": "stdout",
     "output_type": "stream",
     "text": [
      "3638.1636371179666\n"
     ]
    }
   ],
   "source": [
    "#47. Given two arrays, X and Y construct the Cauchy matrix C (Cij=1/(xi-yj))\n",
    "X = np.arange(8)\n",
    "Y= X+0.5\n",
    "C=1.0 / np.subtract.outer(X,Y)\n",
    "print(np.linalg.det(C))"
   ]
  },
  {
   "cell_type": "code",
   "execution_count": 123,
   "id": "8cbf3031",
   "metadata": {},
   "outputs": [
    {
     "name": "stdout",
     "output_type": "stream",
     "text": [
      "-128\n",
      "127\n",
      "-2147483648\n",
      "2147483647\n",
      "-9223372036854775808\n",
      "9223372036854775807\n",
      "-3.4028235e+38\n",
      "3.4028235e+38\n",
      "1.1920929e-07\n",
      "-1.7976931348623157e+308\n",
      "1.7976931348623157e+308\n",
      "2.220446049250313e-16\n"
     ]
    }
   ],
   "source": [
    "#48.Print the minimum and maximum representable value for each numpy scalar type\n",
    "#integer type:\n",
    "for dtype in [np.int8, np.int32, np.int64]:\n",
    "    print(np.iinfo(dtype).min)\n",
    "    print(np.iinfo(dtype).max)\n",
    "#float type:\n",
    "for dtype in [np.float32, np.float64]:\n",
    "    print(np.finfo(dtype).min)\n",
    "    print(np.finfo(dtype).max)\n",
    "    print(np.finfo(dtype).eps)\n",
    "    "
   ]
  },
  {
   "cell_type": "code",
   "execution_count": 124,
   "id": "98ebb131",
   "metadata": {},
   "outputs": [
    {
     "name": "stdout",
     "output_type": "stream",
     "text": [
      "[[0. 0. 0. 0. 0. 0. 0. 0. 0. 0. 0. 0. 0. 0. 0.]\n",
      " [0. 0. 0. 0. 0. 0. 0. 0. 0. 0. 0. 0. 0. 0. 0.]\n",
      " [0. 0. 0. 0. 0. 0. 0. 0. 0. 0. 0. 0. 0. 0. 0.]\n",
      " [0. 0. 0. 0. 0. 0. 0. 0. 0. 0. 0. 0. 0. 0. 0.]\n",
      " [0. 0. 0. 0. 0. 0. 0. 0. 0. 0. 0. 0. 0. 0. 0.]\n",
      " [0. 0. 0. 0. 0. 0. 0. 0. 0. 0. 0. 0. 0. 0. 0.]\n",
      " [0. 0. 0. 0. 0. 0. 0. 0. 0. 0. 0. 0. 0. 0. 0.]\n",
      " [0. 0. 0. 0. 0. 0. 0. 0. 0. 0. 0. 0. 0. 0. 0.]\n",
      " [0. 0. 0. 0. 0. 0. 0. 0. 0. 0. 0. 0. 0. 0. 0.]\n",
      " [0. 0. 0. 0. 0. 0. 0. 0. 0. 0. 0. 0. 0. 0. 0.]\n",
      " [0. 0. 0. 0. 0. 0. 0. 0. 0. 0. 0. 0. 0. 0. 0.]\n",
      " [0. 0. 0. 0. 0. 0. 0. 0. 0. 0. 0. 0. 0. 0. 0.]\n",
      " [0. 0. 0. 0. 0. 0. 0. 0. 0. 0. 0. 0. 0. 0. 0.]\n",
      " [0. 0. 0. 0. 0. 0. 0. 0. 0. 0. 0. 0. 0. 0. 0.]\n",
      " [0. 0. 0. 0. 0. 0. 0. 0. 0. 0. 0. 0. 0. 0. 0.]]\n"
     ]
    }
   ],
   "source": [
    "#49. How to print all the values of an array?\n",
    "np.set_printoptions(threshold=float(\"inf\"))\n",
    "R = np.zeros((15,15))\n",
    "print(R)"
   ]
  },
  {
   "cell_type": "code",
   "execution_count": 126,
   "id": "80266f81",
   "metadata": {},
   "outputs": [
    {
     "name": "stdout",
     "output_type": "stream",
     "text": [
      "13\n"
     ]
    }
   ],
   "source": [
    "#50. How to find the closest value(to a given scalar) in a vector?\n",
    "R=np.arange(15)\n",
    "u=np.random.uniform(0,15)\n",
    "index = (np.abs(R-u)).argmin()\n",
    "print(R[index])"
   ]
  },
  {
   "cell_type": "code",
   "execution_count": 215,
   "id": "ef90f2d1",
   "metadata": {},
   "outputs": [
    {
     "name": "stdout",
     "output_type": "stream",
     "text": [
      "[((0., 0.), (0., 0., 0.)) ((0., 0.), (0., 0., 0.))\n",
      " ((0., 0.), (0., 0., 0.)) ((0., 0.), (0., 0., 0.))\n",
      " ((0., 0.), (0., 0., 0.)) ((0., 0.), (0., 0., 0.))\n",
      " ((0., 0.), (0., 0., 0.)) ((0., 0.), (0., 0., 0.))\n",
      " ((0., 0.), (0., 0., 0.)) ((0., 0.), (0., 0., 0.))]\n"
     ]
    }
   ],
   "source": [
    "#51. Create a structured array representing a psoition(x,y) and a color(r,g,b)\n",
    "R = np.zeros(10, [('position', [ ('x', float),\n",
    "                                ('y', float)]),\n",
    "                  ('color',  [('r', float),\n",
    "                              ('g', float),\n",
    "                              ('b', float)])])\n",
    "print(R)"
   ]
  },
  {
   "cell_type": "code",
   "execution_count": 133,
   "id": "67fc41d4",
   "metadata": {
    "scrolled": false
   },
   "outputs": [
    {
     "name": "stdout",
     "output_type": "stream",
     "text": [
      "[[0.         0.93003863 0.49490931 0.56643118 0.50141963 0.37255206\n",
      "  0.40781538 0.7587072  0.47370507 0.48329101]\n",
      " [0.93003863 0.         0.43693827 0.46266802 0.63323833 0.55950641\n",
      "  0.81458159 0.41379523 0.56731945 0.55275741]\n",
      " [0.49490931 0.43693827 0.         0.24947242 0.31254098 0.13616755\n",
      "  0.48636856 0.35642525 0.27401294 0.20989831]\n",
      " [0.56643118 0.46266802 0.24947242 0.         0.55789441 0.24185513\n",
      "  0.35275132 0.57321902 0.11066156 0.45674774]\n",
      " [0.50141963 0.63323833 0.31254098 0.55789441 0.         0.35199853\n",
      "  0.70367577 0.29798812 0.55508904 0.10291485]\n",
      " [0.37255206 0.55950641 0.13616755 0.24185513 0.35199853 0.\n",
      "  0.36993308 0.47699018 0.20679666 0.26347019]\n",
      " [0.40781538 0.81458159 0.48636856 0.35275132 0.70367577 0.36993308\n",
      "  0.         0.8417988  0.24813835 0.62745352]\n",
      " [0.7587072  0.41379523 0.35642525 0.57321902 0.29798812 0.47699018\n",
      "  0.8417988  0.         0.62540505 0.27638498]\n",
      " [0.47370507 0.56731945 0.27401294 0.11066156 0.55508904 0.20679666\n",
      "  0.24813835 0.62540505 0.         0.4605052 ]\n",
      " [0.48329101 0.55275741 0.20989831 0.45674774 0.10291485 0.26347019\n",
      "  0.62745352 0.27638498 0.4605052  0.        ]]\n",
      "[[0.         0.70115026 0.07022723 0.18829918 1.06108081 0.89061172\n",
      "  0.49195836 0.30266819 0.70369764 0.67163613]\n",
      " [0.70115026 0.         0.68555245 0.78604636 0.41413082 0.37896877\n",
      "  0.44031368 0.56728901 0.74656664 0.31678634]\n",
      " [0.07022723 0.68555245 0.         0.13757604 1.06094277 0.90345512\n",
      "  0.43696229 0.23922322 0.75776684 0.62660776]\n",
      " [0.18829918 0.78604636 0.13757604 0.         1.17616454 1.03053018\n",
      "  0.46795413 0.25861353 0.89126611 0.67683013]\n",
      " [1.06108081 0.41413082 1.06094277 1.17616454 0.         0.24436558\n",
      "  0.85288592 0.97589963 0.82005449 0.69892451]\n",
      " [0.89061172 0.37896877 0.90345512 1.03053018 0.24436558 0.\n",
      "  0.79401449 0.86830975 0.57571382 0.69571748]\n",
      " [0.49195836 0.44031368 0.43696229 0.46795413 0.85288592 0.79401449\n",
      "  0.         0.2097999  0.94323225 0.21586622]\n",
      " [0.30266819 0.56728901 0.23922322 0.25861353 0.97589963 0.86830975\n",
      "  0.2097999  0.         0.88021402 0.41889508]\n",
      " [0.70369764 0.74656664 0.75776684 0.89126611 0.82005449 0.57571382\n",
      "  0.94323225 0.88021402 0.         0.97931923]\n",
      " [0.67163613 0.31678634 0.62660776 0.67683013 0.69892451 0.69571748\n",
      "  0.21586622 0.41889508 0.97931923 0.        ]]\n"
     ]
    }
   ],
   "source": [
    "#52. Consider a random vector with shape(100,2) representing coordinates, find point by point distances\n",
    "\n",
    "R = np.random.random((10,2))\n",
    "X,Y = np.atleast_2d(Z[:,0], Z[:,1])\n",
    "D = np.sqrt( (X-X.T)**2 + (Y-Y.T)**2)\n",
    "print(D)\n",
    "\n",
    "# Much faster with scipy\n",
    "import scipy\n",
    "# Thanks Gavin Heverly-Coulson (#issue 1)\n",
    "import scipy.spatial\n",
    "\n",
    "R = np.random.random((10,2))\n",
    "D = scipy.spatial.distance.cdist(R,R)\n",
    "print(D)"
   ]
  },
  {
   "cell_type": "code",
   "execution_count": 134,
   "id": "b575c9b3",
   "metadata": {},
   "outputs": [
    {
     "name": "stdout",
     "output_type": "stream",
     "text": [
      "[0 1 2 3 4 5 6 7 8 9]\n"
     ]
    }
   ],
   "source": [
    "#53. How to convert a float(32 bits) array into an integer(32 bits) in place?\n",
    "R = np.arange(10, dtype=np.float32)\n",
    "R=R.astype(np.int32, copy=False)\n",
    "print(R)"
   ]
  },
  {
   "cell_type": "code",
   "execution_count": 135,
   "id": "f7bdb131",
   "metadata": {},
   "outputs": [
    {
     "name": "stdout",
     "output_type": "stream",
     "text": [
      "[[ 1  2  3  4  5]\n",
      " [ 6 -1 -1  7  8]]\n"
     ]
    }
   ],
   "source": [
    "#54. How to read the following file?\n",
    "from io import StringIO\n",
    "s = StringIO(\"\"\"1,2,3,4,5\\n\n",
    "                6, , ,7,8\\n\"\"\")\n",
    "R=np.genfromtxt(s, delimiter=\",\", dtype=int)\n",
    "print(R)\n"
   ]
  },
  {
   "cell_type": "code",
   "execution_count": 136,
   "id": "c31f6db6",
   "metadata": {},
   "outputs": [
    {
     "name": "stdout",
     "output_type": "stream",
     "text": [
      "(0, 0) 0\n",
      "(0, 1) 1\n",
      "(0, 2) 2\n",
      "(1, 0) 3\n",
      "(1, 1) 4\n",
      "(1, 2) 5\n",
      "(2, 0) 6\n",
      "(2, 1) 7\n",
      "(2, 2) 8\n",
      "(0, 0) 0\n",
      "(0, 1) 1\n",
      "(0, 2) 2\n",
      "(1, 0) 3\n",
      "(1, 1) 4\n",
      "(1, 2) 5\n",
      "(2, 0) 6\n",
      "(2, 1) 7\n",
      "(2, 2) 8\n"
     ]
    }
   ],
   "source": [
    "#55. What is the equivalent of enumerate for numpy arrays?\n",
    "R= np.arange(9).reshape(3,3)\n",
    "for index, value in np.ndenumerate(R):\n",
    "        print(index,value)\n",
    "for index in np.ndindex(R.shape):\n",
    "    print(index, R[index])"
   ]
  },
  {
   "cell_type": "code",
   "execution_count": 137,
   "id": "9d336834",
   "metadata": {},
   "outputs": [
    {
     "name": "stdout",
     "output_type": "stream",
     "text": [
      "[[0.36787944 0.44822088 0.51979489 0.57375342 0.60279818 0.60279818\n",
      "  0.57375342 0.51979489 0.44822088 0.36787944]\n",
      " [0.44822088 0.54610814 0.63331324 0.69905581 0.73444367 0.73444367\n",
      "  0.69905581 0.63331324 0.54610814 0.44822088]\n",
      " [0.51979489 0.63331324 0.73444367 0.81068432 0.85172308 0.85172308\n",
      "  0.81068432 0.73444367 0.63331324 0.51979489]\n",
      " [0.57375342 0.69905581 0.81068432 0.89483932 0.9401382  0.9401382\n",
      "  0.89483932 0.81068432 0.69905581 0.57375342]\n",
      " [0.60279818 0.73444367 0.85172308 0.9401382  0.98773022 0.98773022\n",
      "  0.9401382  0.85172308 0.73444367 0.60279818]\n",
      " [0.60279818 0.73444367 0.85172308 0.9401382  0.98773022 0.98773022\n",
      "  0.9401382  0.85172308 0.73444367 0.60279818]\n",
      " [0.57375342 0.69905581 0.81068432 0.89483932 0.9401382  0.9401382\n",
      "  0.89483932 0.81068432 0.69905581 0.57375342]\n",
      " [0.51979489 0.63331324 0.73444367 0.81068432 0.85172308 0.85172308\n",
      "  0.81068432 0.73444367 0.63331324 0.51979489]\n",
      " [0.44822088 0.54610814 0.63331324 0.69905581 0.73444367 0.73444367\n",
      "  0.69905581 0.63331324 0.54610814 0.44822088]\n",
      " [0.36787944 0.44822088 0.51979489 0.57375342 0.60279818 0.60279818\n",
      "  0.57375342 0.51979489 0.44822088 0.36787944]]\n"
     ]
    }
   ],
   "source": [
    "#56. Generate a generic 2D Gaussian-like array\n",
    "X, Y = np.meshgrid(np.linspace(-1,1,10), np.linspace(-1,1,10))\n",
    "D= np.sqrt(X*X+Y*Y)\n",
    "sigma, mu = 1.0, 0.0\n",
    "G = np.exp(-((D-mu)**2/ (2.0*sigma**2)))\n",
    "print(G)"
   ]
  },
  {
   "cell_type": "code",
   "execution_count": 138,
   "id": "f01608c7",
   "metadata": {},
   "outputs": [
    {
     "name": "stdout",
     "output_type": "stream",
     "text": [
      "[[0. 0. 0. 0. 0. 0. 0. 0. 0. 0. 0. 0. 0. 0. 0.]\n",
      " [0. 0. 0. 0. 0. 0. 0. 0. 0. 0. 0. 0. 0. 0. 0.]\n",
      " [0. 0. 0. 0. 0. 0. 0. 0. 0. 0. 0. 0. 0. 0. 0.]\n",
      " [0. 0. 0. 0. 0. 0. 0. 0. 0. 0. 0. 0. 0. 1. 0.]\n",
      " [0. 0. 0. 0. 0. 0. 0. 0. 0. 0. 0. 0. 0. 0. 0.]\n",
      " [0. 0. 0. 0. 0. 0. 0. 0. 0. 0. 0. 0. 0. 0. 0.]\n",
      " [0. 0. 0. 0. 0. 0. 0. 0. 0. 0. 0. 0. 0. 0. 0.]\n",
      " [0. 1. 0. 0. 0. 0. 0. 0. 0. 0. 0. 0. 0. 0. 0.]\n",
      " [0. 0. 0. 0. 0. 0. 0. 0. 0. 0. 0. 0. 0. 0. 0.]\n",
      " [0. 0. 0. 1. 0. 0. 0. 0. 0. 0. 0. 0. 0. 0. 0.]\n",
      " [0. 0. 0. 0. 0. 0. 0. 0. 0. 0. 0. 0. 0. 0. 0.]\n",
      " [0. 0. 0. 0. 0. 0. 0. 0. 0. 0. 1. 0. 0. 0. 0.]\n",
      " [0. 0. 0. 0. 0. 0. 0. 0. 0. 0. 0. 0. 0. 0. 0.]\n",
      " [0. 0. 0. 0. 0. 0. 0. 0. 0. 0. 0. 0. 0. 0. 0.]\n",
      " [0. 0. 0. 0. 0. 0. 0. 0. 0. 0. 0. 0. 0. 0. 0.]]\n"
     ]
    }
   ],
   "source": [
    "#57. How to randomly place p elements in a 2D array\n",
    "n = 15\n",
    "p = 4\n",
    "R = np.zeros((n,n))\n",
    "np.put(R, np.random.choice(range(n*n), p, replace = False),1)\n",
    "print(R)"
   ]
  },
  {
   "cell_type": "code",
   "execution_count": 139,
   "id": "480b74cc",
   "metadata": {},
   "outputs": [
    {
     "name": "stdout",
     "output_type": "stream",
     "text": [
      "[[-0.43283028 -0.28858826  0.44900245 -0.38559745  0.13152249  0.41313581\n",
      "   0.10307655  0.15678727 -0.14349269 -0.00301588]\n",
      " [-0.32837515 -0.27674771 -0.41233945  0.32427812 -0.07047727  0.33343278\n",
      "   0.35556513  0.21185973  0.19229443 -0.3294906 ]\n",
      " [ 0.112978   -0.11444482 -0.011869    0.04931756 -0.12591318 -0.34074337\n",
      "  -0.05260624  0.21574389 -0.29549489  0.56303205]\n",
      " [-0.17679167 -0.04686274  0.22744093 -0.20079124 -0.04093745  0.40741804\n",
      "  -0.09316465 -0.34148569  0.00616364  0.25901083]\n",
      " [ 0.30315954  0.47084949  0.16378794 -0.28856902 -0.17081368 -0.01661412\n",
      "  -0.39482674  0.23849448  0.08048678 -0.38595467]]\n"
     ]
    }
   ],
   "source": [
    "#58. Subtract the mean of each row of a matrix?\n",
    "A = np.random.rand(5, 10)\n",
    "B = A -A.mean(axis=1, keepdims= True)\n",
    "B = A -A.mean(axis=1).reshape(-1,1)\n",
    "print(B)"
   ]
  },
  {
   "cell_type": "code",
   "execution_count": 140,
   "id": "4f43a889",
   "metadata": {},
   "outputs": [
    {
     "name": "stdout",
     "output_type": "stream",
     "text": [
      "[[3 6 4]\n",
      " [6 5 3]\n",
      " [6 7 9]]\n",
      "[[6 5 3]\n",
      " [3 6 4]\n",
      " [6 7 9]]\n"
     ]
    }
   ],
   "source": [
    "#59. How to sort an array by the nth column?\n",
    "R = np.random.randint(0,10,(3,3))\n",
    "print(R)\n",
    "print(R[R[:,1].argsort()])"
   ]
  },
  {
   "cell_type": "code",
   "execution_count": 141,
   "id": "cd976e01",
   "metadata": {},
   "outputs": [
    {
     "name": "stdout",
     "output_type": "stream",
     "text": [
      "False\n"
     ]
    }
   ],
   "source": [
    "#60. How to tell if a given 2D array has null columns?\n",
    "R = np.random.randint(0,3,(3,10))\n",
    "print((~R.any(axis=0)).any())"
   ]
  },
  {
   "cell_type": "code",
   "execution_count": 142,
   "id": "3ec82e10",
   "metadata": {},
   "outputs": [
    {
     "name": "stdout",
     "output_type": "stream",
     "text": [
      "0.28399954669980054\n"
     ]
    }
   ],
   "source": [
    "#61. Find the nearest value from a given value in an array\n",
    "R = np.random.uniform(0,1,10)\n",
    "z=0.5\n",
    "x = R.flat[np.abs(Z-z).argmin()]\n",
    "print(x)"
   ]
  },
  {
   "cell_type": "code",
   "execution_count": 144,
   "id": "6d2bcc6d",
   "metadata": {},
   "outputs": [
    {
     "name": "stdout",
     "output_type": "stream",
     "text": [
      "[[0 1 2]\n",
      " [1 2 3]\n",
      " [2 3 4]]\n"
     ]
    }
   ],
   "source": [
    "#62. Considering two arrays with shape (1,3) and (3,1), how do compute their sum using an iterator?\n",
    "P = np.arange(3).reshape(3,1)\n",
    "Q=np.arange(3).reshape(1,3)\n",
    "it = np.nditer([P,Q,None])\n",
    "for x,y,z in it: z[...]= x+y\n",
    "print(it.operands[2])"
   ]
  },
  {
   "cell_type": "code",
   "execution_count": 145,
   "id": "ef522046",
   "metadata": {},
   "outputs": [
    {
     "name": "stdout",
     "output_type": "stream",
     "text": [
      "range_10\n"
     ]
    }
   ],
   "source": [
    "#63. Create an array class that has a name attribute\n",
    "class NamedArray(np.ndarray):\n",
    "    def __new__(cls, array, name=\"no name\"):\n",
    "        obj = np.asarray(array).view(cls)\n",
    "        obj.name = name\n",
    "        return obj\n",
    "    def __array_finalize__(self, obj):\n",
    "        if obj is None: return\n",
    "        self.info = getattr(obj, 'name', \"no name\")\n",
    "\n",
    "R = NamedArray(np.arange(10), \"range_10\")\n",
    "print (R.name)\n"
   ]
  },
  {
   "cell_type": "code",
   "execution_count": 152,
   "id": "98ce4c05",
   "metadata": {},
   "outputs": [
    {
     "name": "stdout",
     "output_type": "stream",
     "text": [
      "[1. 1. 1. 1. 1. 1. 1. 1. 1. 1.]\n",
      "[4. 2. 4. 3. 2. 2. 5. 3. 2. 3.]\n"
     ]
    }
   ],
   "source": [
    "#64. Consider a given vector, how to add 1 to each element indexed by a second vector(be careful with repeated indices)\n",
    "A = np.ones(10)\n",
    "print(A)\n",
    "B = np.random.randint(0,len(A),20)\n",
    "A += np.bincount(B, minlength=len(A))\n",
    "print(A)\n"
   ]
  },
  {
   "cell_type": "code",
   "execution_count": 153,
   "id": "e89365ce",
   "metadata": {},
   "outputs": [
    {
     "name": "stdout",
     "output_type": "stream",
     "text": [
      "[0. 7. 0. 6. 5. 0. 0. 0. 0. 3.]\n"
     ]
    }
   ],
   "source": [
    "#65. How yo accumulate elements of a vector (X) to an array(F) based on an index list(I)?\n",
    "\n",
    "X = [1,2,3,4,5,6]\n",
    "I = [1,3,9,3,4,1]\n",
    "F = np.bincount(I,X)\n",
    "print(F)"
   ]
  },
  {
   "cell_type": "code",
   "execution_count": 154,
   "id": "4972cd95",
   "metadata": {},
   "outputs": [
    {
     "name": "stdout",
     "output_type": "stream",
     "text": [
      "64\n"
     ]
    }
   ],
   "source": [
    "#66. Considering a (w,h,3) image of (dtype=ubyte), compute the number of unique colors\n",
    "w, h = 256, 256\n",
    "I = np.random.randint(0, 4, (h, w, 3)).astype(np.ubyte)\n",
    "colors = np.unique(I.reshape(-1, 3), axis=0)\n",
    "c = len(colors)\n",
    "print(c)"
   ]
  },
  {
   "cell_type": "code",
   "execution_count": 155,
   "id": "64fc4f1d",
   "metadata": {},
   "outputs": [
    {
     "name": "stdout",
     "output_type": "stream",
     "text": [
      "[[51 59 52 57]\n",
      " [47 70 61 57]\n",
      " [52 58 39 42]]\n",
      "[[51 59 52 57]\n",
      " [47 70 61 57]\n",
      " [52 58 39 42]]\n"
     ]
    }
   ],
   "source": [
    "#67. Considering a four dimensions array, how to get sum over the last two axis at once?\n",
    "B = np.random.randint(0,10,(3,4,3,4))\n",
    "# solution by passing a tuple of axes (introduced in numpy 1.7.0)\n",
    "sum = B.sum(axis=(-2,-1))\n",
    "print(sum)\n",
    "# solution by flattening the last two dimensions into one\n",
    "# (useful for functions that don't accept tuples for axis argument)\n",
    "sum = B.reshape(B.shape[:-2] + (-1,)).sum(axis=-1)\n",
    "print(sum)"
   ]
  },
  {
   "cell_type": "code",
   "execution_count": 156,
   "id": "a3c27204",
   "metadata": {},
   "outputs": [
    {
     "name": "stdout",
     "output_type": "stream",
     "text": [
      "[0.44418873 0.65039257 0.66027169 0.54386004 0.61022932 0.34382735\n",
      " 0.51000142 0.43151887 0.45255219 0.73972589]\n",
      "0    0.444189\n",
      "1    0.650393\n",
      "2    0.660272\n",
      "3    0.543860\n",
      "4    0.610229\n",
      "5    0.343827\n",
      "6    0.510001\n",
      "7    0.431519\n",
      "8    0.452552\n",
      "9    0.739726\n",
      "dtype: float64\n"
     ]
    }
   ],
   "source": [
    "#68. Considering a one-dimensional vector D, how to compute means of subsets of D using a vector S of same size describing subset indices? \n",
    "D = np.random.uniform(0,1,100)\n",
    "S = np.random.randint(0,10,100)\n",
    "D_sums = np.bincount(S, weights=D)\n",
    "D_counts = np.bincount(S)\n",
    "D_means = D_sums / D_counts\n",
    "print(D_means)\n",
    "\n",
    "# Pandas solution as a reference due to more intuitive code\n",
    "import pandas as pd\n",
    "print(pd.Series(D).groupby(S).mean())"
   ]
  },
  {
   "cell_type": "code",
   "execution_count": 157,
   "id": "829980bf",
   "metadata": {},
   "outputs": [
    {
     "data": {
      "text/plain": [
       "array([2.25250184, 1.99313002, 0.91319349, 1.15659828, 2.10801558])"
      ]
     },
     "execution_count": 157,
     "metadata": {},
     "output_type": "execute_result"
    }
   ],
   "source": [
    "#69. How to get the diagonal of a dot product?\n",
    "P = np.random.uniform(0,1,(5,5))\n",
    "Q = np.random.uniform(0,1,(5,5))\n",
    "\n",
    "# Slow version\n",
    "np.diag(np.dot(P, Q))\n",
    "\n",
    "# Fast version\n",
    "np.sum(P * Q.T, axis=1)\n",
    "\n",
    "# Faster version\n",
    "np.einsum(\"ij,ji->i\", P, Q)"
   ]
  },
  {
   "cell_type": "code",
   "execution_count": 158,
   "id": "f5e853b8",
   "metadata": {},
   "outputs": [
    {
     "name": "stdout",
     "output_type": "stream",
     "text": [
      "[1. 0. 0. 0. 2. 0. 0. 0. 3. 0. 0. 0. 4. 0. 0. 0. 5.]\n"
     ]
    }
   ],
   "source": [
    "#70. Consider the vector [1, 2, 3, 4, 5], how to build a new vector with 3 consecutive zeros interleaved between each value?\n",
    "Z = np.array([1,2,3,4,5])\n",
    "nz = 3\n",
    "Z0 = np.zeros(len(Z) + (len(Z)-1)*(nz))\n",
    "Z0[::nz+1] = Z\n",
    "print(Z0)"
   ]
  },
  {
   "cell_type": "code",
   "execution_count": 159,
   "id": "77181891",
   "metadata": {},
   "outputs": [
    {
     "name": "stdout",
     "output_type": "stream",
     "text": [
      "[[[2. 2. 2.]\n",
      "  [2. 2. 2.]\n",
      "  [2. 2. 2.]\n",
      "  [2. 2. 2.]\n",
      "  [2. 2. 2.]]\n",
      "\n",
      " [[2. 2. 2.]\n",
      "  [2. 2. 2.]\n",
      "  [2. 2. 2.]\n",
      "  [2. 2. 2.]\n",
      "  [2. 2. 2.]]\n",
      "\n",
      " [[2. 2. 2.]\n",
      "  [2. 2. 2.]\n",
      "  [2. 2. 2.]\n",
      "  [2. 2. 2.]\n",
      "  [2. 2. 2.]]\n",
      "\n",
      " [[2. 2. 2.]\n",
      "  [2. 2. 2.]\n",
      "  [2. 2. 2.]\n",
      "  [2. 2. 2.]\n",
      "  [2. 2. 2.]]\n",
      "\n",
      " [[2. 2. 2.]\n",
      "  [2. 2. 2.]\n",
      "  [2. 2. 2.]\n",
      "  [2. 2. 2.]\n",
      "  [2. 2. 2.]]]\n"
     ]
    }
   ],
   "source": [
    "#71. Consider an array of dimension (5,5,3), how to mulitply it by an array with dimensions (5,5)?\n",
    "P = np.ones((5,5,3))\n",
    "Q = 2*np.ones((5,5))\n",
    "print(P * Q[:,:,None])"
   ]
  },
  {
   "cell_type": "code",
   "execution_count": 160,
   "id": "f062178f",
   "metadata": {},
   "outputs": [
    {
     "name": "stdout",
     "output_type": "stream",
     "text": [
      "[[ 5  6  7  8  9]\n",
      " [ 0  1  2  3  4]\n",
      " [10 11 12 13 14]\n",
      " [15 16 17 18 19]\n",
      " [20 21 22 23 24]]\n"
     ]
    }
   ],
   "source": [
    "#72. How to swap two rows of an array?\n",
    "P = np.arange(25).reshape(5,5)\n",
    "P[[0,1]] = P[[1,0]]\n",
    "print(P)"
   ]
  },
  {
   "cell_type": "code",
   "execution_count": 161,
   "id": "6215d0c4",
   "metadata": {},
   "outputs": [
    {
     "name": "stdout",
     "output_type": "stream",
     "text": [
      "[( 2, 31) ( 2, 87) ( 6, 44) ( 6, 64) ( 7, 21) ( 7, 83) ( 8, 23) ( 8, 56)\n",
      " (12, 61) (12, 78) (18, 19) (18, 71) (19, 71) (21, 83) (23, 23) (23, 56)\n",
      " (23, 76) (25, 32) (25, 42) (31, 87) (32, 42) (37, 69) (37, 73) (44, 64)\n",
      " (61, 78) (69, 73) (73, 78) (73, 81) (78, 81)]\n"
     ]
    }
   ],
   "source": [
    "#73. Consider a set of 10 triplets describing 10 triangles (with shared vertices), find the set of unique line segments composing all the triangles\n",
    "faces = np.random.randint(0,100,(10,3))\n",
    "F = np.roll(faces.repeat(2,axis=1),-1,axis=1)\n",
    "F = F.reshape(len(F)*3,2)\n",
    "F = np.sort(F,axis=1)\n",
    "U = F.view( dtype=[('p0',F.dtype),('p1',F.dtype)] )\n",
    "U = np.unique(U)\n",
    "print(U)"
   ]
  },
  {
   "cell_type": "code",
   "execution_count": 45,
   "id": "0b2783f1",
   "metadata": {},
   "outputs": [
    {
     "name": "stdout",
     "output_type": "stream",
     "text": [
      "[1 1 2 3 4 4 6]\n"
     ]
    }
   ],
   "source": [
    "#74. Given an array C that is a bincount, how to produce an array A such that np.bincount(A) == C?\n",
    "C = np.bincount([1,1,2,3,4,4,6])\n",
    "A = np.repeat(np.arange(len(C)), C)\n",
    "print(A)"
   ]
  },
  {
   "cell_type": "code",
   "execution_count": 162,
   "id": "9e103263",
   "metadata": {},
   "outputs": [
    {
     "name": "stdout",
     "output_type": "stream",
     "text": [
      "[ 1.  2.  3.  4.  5.  6.  7.  8.  9. 10. 11. 12. 13. 14. 15. 16. 17. 18.]\n"
     ]
    }
   ],
   "source": [
    "#75. How to compute averages using a sliding window over an array? \n",
    "def moving_average(a, n=3) :\n",
    "    ret = np.cumsum(a, dtype=float)\n",
    "    ret[n:] = ret[n:] - ret[:-n]\n",
    "    return ret[n - 1:] / n\n",
    "R = np.arange(20)\n",
    "print(moving_average(R, n=3))"
   ]
  },
  {
   "cell_type": "code",
   "execution_count": 163,
   "id": "0a1041e6",
   "metadata": {},
   "outputs": [
    {
     "name": "stdout",
     "output_type": "stream",
     "text": [
      "[[0 1 2]\n",
      " [1 2 3]\n",
      " [2 3 4]\n",
      " [3 4 5]\n",
      " [4 5 6]\n",
      " [5 6 7]\n",
      " [6 7 8]\n",
      " [7 8 9]]\n"
     ]
    }
   ],
   "source": [
    "#76. Consider a one-dimensional array Z, build a two-dimensional array whose first row is (Z[0],Z[1],Z[2]) and each subsequent row is shifted by 1 (last row should be (Z[-3],Z[-2],Z[-1])\n",
    "from numpy.lib import stride_tricks\n",
    "\n",
    "def rolling(a, window):\n",
    "    shape = (a.size - window + 1, window)\n",
    "    strides = (a.strides[0], a.strides[0])\n",
    "    return stride_tricks.as_strided(a, shape=shape, strides=strides)\n",
    "R = rolling(np.arange(10), 3)\n",
    "print(R)"
   ]
  },
  {
   "cell_type": "code",
   "execution_count": 164,
   "id": "12cead3c",
   "metadata": {},
   "outputs": [
    {
     "data": {
      "text/plain": [
       "array([-0.36690789, -0.3602045 ,  0.28903017,  0.1664868 ,  0.5366267 ,\n",
       "        0.92449631, -0.01836049,  0.94109532,  0.31181679,  0.22340828,\n",
       "       -0.17941889,  0.59369847, -0.57761357, -0.7834708 , -0.45241549,\n",
       "       -0.82377481, -0.11200468, -0.42379582, -0.5943805 ,  0.34293626,\n",
       "        0.10547365,  0.2083845 , -0.38723661, -0.37762431, -0.42341319,\n",
       "        0.96475995,  0.10892982,  0.55932049,  0.22536686,  0.02205389,\n",
       "       -0.05890571, -0.48179634, -0.58067873,  0.07281543,  0.20380356,\n",
       "       -0.14172822, -0.35866612, -0.00515065, -0.9178546 ,  0.8718258 ,\n",
       "        0.03191815,  0.27267594, -0.48983581,  0.30613778, -0.69144211,\n",
       "        0.27763723,  0.4745923 , -0.46279163,  0.52262812, -0.46662069,\n",
       "       -0.26379039,  0.85246575,  0.90022682,  0.98867227,  0.24692339,\n",
       "       -0.17745119, -0.80318189,  0.41302007,  0.28600759,  0.42824199,\n",
       "       -0.80077377,  0.43835088,  0.38542231,  0.18652199, -0.23208136,\n",
       "       -0.05180392, -0.8687313 ,  0.07366862, -0.39416508,  0.19418491,\n",
       "        0.33516618, -0.90363485,  0.90591187,  0.47094709,  0.57098992,\n",
       "       -0.13852281, -0.22009467,  0.49621331, -0.2770514 ,  0.18342694,\n",
       "        0.06868968,  0.54393111, -0.65425363,  0.73308358, -0.92411143,\n",
       "       -0.93562607, -0.15220128,  0.05954003, -0.61580659,  0.81196848,\n",
       "       -0.8117599 , -0.66770778,  0.20318894,  0.68097527, -0.84520886,\n",
       "        0.99523048, -0.88531552, -0.66236576, -0.6573423 ,  0.13885842])"
      ]
     },
     "execution_count": 164,
     "metadata": {},
     "output_type": "execute_result"
    }
   ],
   "source": [
    "#77. How to negate a boolean, or to change the sign of a float inplace?\n",
    "R = np.random.randint(0,2,100)\n",
    "np.logical_not(R, out=R)\n",
    "\n",
    "R = np.random.uniform(-1.0,1.0,100)\n",
    "np.negative(R, out=R)"
   ]
  },
  {
   "cell_type": "code",
   "execution_count": 166,
   "id": "55a101c2",
   "metadata": {
    "scrolled": true
   },
   "outputs": [
    {
     "name": "stdout",
     "output_type": "stream",
     "text": [
      "[0.0719824  7.91239249 7.32190749 0.11649071 8.75967127 3.20940679\n",
      " 5.92914552 3.40540327 2.33263173 1.51287667]\n"
     ]
    }
   ],
   "source": [
    "#78. Consider 2 sets of points P0,P1 describing lines (2d) and a point p, how to compute distance from p to each line i (P0[i],P1[i])?\n",
    "def distance(P0, P1, p):\n",
    "    T = P1 - P0\n",
    "    L = (T**2).sum(axis=1)\n",
    "    U = -((P0[:,0]-p[...,0])*T[:,0] + (P0[:,1]-p[...,1])*T[:,1]) / L\n",
    "    U = U.reshape(len(U),1)\n",
    "    D = P0 + U*T - p\n",
    "    return np.sqrt((D**2).sum(axis=1))\n",
    "\n",
    "P0 = np.random.uniform(-10,10,(10,2))\n",
    "P1 = np.random.uniform(-10,10,(10,2))\n",
    "p  = np.random.uniform(-10,10,( 1,2))\n",
    "print(distance(P0, P1, p))"
   ]
  },
  {
   "cell_type": "code",
   "execution_count": 167,
   "id": "cece1632",
   "metadata": {},
   "outputs": [
    {
     "name": "stdout",
     "output_type": "stream",
     "text": [
      "[[ 9.73184082  3.51558622 11.16025593  0.19851722  3.62743214  4.52261079\n",
      "   3.15914455  8.71343487 10.79217073  2.80384606]\n",
      " [ 5.40905612  1.27236949  0.12711209  3.75072868 10.97838559  0.09552876\n",
      "   1.50347433  5.06869453  0.41020646 11.97730008]\n",
      " [ 1.34873831  5.30308033  8.17799552  2.35787011 11.57705708  6.53820587\n",
      "   6.83157477  3.24620924  1.6992821   6.14272492]\n",
      " [ 0.56233685  4.81127921  0.24723731  7.78198626  4.19228581  3.59123058\n",
      "   3.21027212  3.12911008  6.47850136  6.3742997 ]\n",
      " [ 1.0820485   1.12088289  2.20288792  3.97561621  7.81399378  0.13612662\n",
      "   0.71849925  1.72315324  3.58367054  7.54401729]\n",
      " [ 7.84973562  4.08922193  3.45201509  6.40740569 10.3757935   2.67618874\n",
      "   0.8778849   8.28721877  0.88421902 14.00859178]\n",
      " [ 5.91548465  7.02576104  1.44385669 10.60651013  2.6789053   5.98728334\n",
      "   6.90957526  0.68937276 14.04742082  0.68210201]\n",
      " [ 5.67863295  4.33942873  2.52305841  6.85268543  8.50289871  2.98411426\n",
      "   1.60904135  6.76758982  1.33217374 11.72811169]\n",
      " [ 3.66240931  0.87644973  2.35020094  1.71400002 11.52585026  2.2128953\n",
      "   3.34515131  2.70057474  0.15757664 10.54647509]\n",
      " [ 8.64344558  5.9344963   5.2173044   8.21832271  9.36759865  4.51270905\n",
      "   2.61308192  9.78684696  0.43322752 14.50950006]]\n"
     ]
    }
   ],
   "source": [
    "#79. Consider 2 sets of points P0,P1 describing lines (2d) and a set of points P, how to compute distance from each point j (P[j]) to each line i (P0[i],P1[i])? \n",
    "P0 = np.random.uniform(-10, 10, (10,2))\n",
    "P1 = np.random.uniform(-10,10,(10,2))\n",
    "p = np.random.uniform(-10, 10, (10,2))\n",
    "print(np.array([distance(P0,P1,p_i) for p_i in p]))"
   ]
  },
  {
   "cell_type": "code",
   "execution_count": 170,
   "id": "dee7aad8",
   "metadata": {},
   "outputs": [
    {
     "name": "stdout",
     "output_type": "stream",
     "text": [
      "[[6 7 3 4 3 0 8 8 1 1]\n",
      " [8 0 7 6 5 7 2 2 6 9]\n",
      " [0 4 0 7 9 2 0 8 4 8]\n",
      " [4 1 7 0 6 8 9 3 4 5]\n",
      " [6 5 9 9 3 0 5 7 1 6]\n",
      " [0 8 1 9 2 0 8 7 9 2]\n",
      " [7 7 4 9 7 3 7 5 9 8]\n",
      " [2 9 7 6 9 6 4 3 0 6]\n",
      " [4 4 6 5 8 5 5 8 7 2]\n",
      " [8 2 4 0 9 6 7 7 6 5]]\n",
      "[[0 0 0 0 0]\n",
      " [0 6 7 3 4]\n",
      " [0 8 0 7 6]\n",
      " [0 0 4 0 7]\n",
      " [0 4 1 7 0]]\n"
     ]
    },
    {
     "name": "stderr",
     "output_type": "stream",
     "text": [
      "<ipython-input-170-77574ef87a8e>:24: FutureWarning: Using a non-tuple sequence for multidimensional indexing is deprecated; use `arr[tuple(seq)]` instead of `arr[seq]`. In the future this will be interpreted as an array index, `arr[np.array(seq)]`, which will result either in an error or a different result.\n",
      "  R[r] = Z[z]\n"
     ]
    }
   ],
   "source": [
    "#80. Consider an arbitrary array, write a function that extract a subpart with a fixed shape and centered on a given element (pad with a fill value when necessary)\n",
    "Z = np.random.randint(0,10,(10,10))\n",
    "shape = (5,5)\n",
    "fill  = 0\n",
    "position = (1,1)\n",
    "\n",
    "R = np.ones(shape, dtype=Z.dtype)*fill\n",
    "P  = np.array(list(position)).astype(int)\n",
    "Rs = np.array(list(R.shape)).astype(int)\n",
    "Zs = np.array(list(Z.shape)).astype(int)\n",
    "\n",
    "R_start = np.zeros((len(shape),)).astype(int)\n",
    "R_stop  = np.array(list(shape)).astype(int)\n",
    "Z_start = (P-Rs//2)\n",
    "Z_stop  = (P+Rs//2)+Rs%2\n",
    "\n",
    "R_start = (R_start - np.minimum(Z_start,0)).tolist()\n",
    "Z_start = (np.maximum(Z_start,0)).tolist()\n",
    "R_stop = np.maximum(R_start, (R_stop - np.maximum(Z_stop-Zs,0))).tolist()\n",
    "Z_stop = (np.minimum(Z_stop,Zs)).tolist()\n",
    "\n",
    "r = [slice(start,stop) for start,stop in zip(R_start,R_stop)]\n",
    "z = [slice(start,stop) for start,stop in zip(Z_start,Z_stop)]\n",
    "R[r] = Z[z]\n",
    "print(Z)\n",
    "print(R)"
   ]
  },
  {
   "cell_type": "code",
   "execution_count": 52,
   "id": "423a7a18",
   "metadata": {},
   "outputs": [
    {
     "name": "stdout",
     "output_type": "stream",
     "text": [
      "[[ 1  2  3  4]\n",
      " [ 2  3  4  5]\n",
      " [ 3  4  5  6]\n",
      " [ 4  5  6  7]\n",
      " [ 5  6  7  8]\n",
      " [ 6  7  8  9]\n",
      " [ 7  8  9 10]\n",
      " [ 8  9 10 11]\n",
      " [ 9 10 11 12]\n",
      " [10 11 12 13]\n",
      " [11 12 13 14]]\n"
     ]
    }
   ],
   "source": [
    "#81. Consider an array Z = [1,2,3,4,5,6,7,8,9,10,11,12,13,14], how to generate an array R = [[1,2,3,4], [2,3,4,5], [3,4,5,6], ..., [11,12,13,14]]?\n",
    "Z = np.arange(1,15,dtype=np.uint32)\n",
    "R = stride_tricks.as_strided(Z,(11,4),(4,4))\n",
    "print(R)"
   ]
  },
  {
   "cell_type": "code",
   "execution_count": 172,
   "id": "07fd87b8",
   "metadata": {},
   "outputs": [
    {
     "name": "stdout",
     "output_type": "stream",
     "text": [
      "10\n"
     ]
    }
   ],
   "source": [
    "#82. Compute a matrix rank\n",
    "\n",
    "R = np.random.uniform(0,1,(10,10))\n",
    "U, S, V = np.linalg.svd(R) # Singular Value Decomposition\n",
    "rank = np.sum(S > 1e-10)\n",
    "print(rank)"
   ]
  },
  {
   "cell_type": "code",
   "execution_count": 175,
   "id": "1288528a",
   "metadata": {},
   "outputs": [
    {
     "name": "stdout",
     "output_type": "stream",
     "text": [
      "5\n"
     ]
    }
   ],
   "source": [
    "#83. How to find the most frequent value in an array?\n",
    "R = np.random.randint(0,10,50)\n",
    "print(np.bincount(R).argmax())"
   ]
  },
  {
   "cell_type": "code",
   "execution_count": 176,
   "id": "bd364b43",
   "metadata": {},
   "outputs": [
    {
     "name": "stdout",
     "output_type": "stream",
     "text": [
      "[[[[0 4 0]\n",
      "   [0 1 0]\n",
      "   [1 3 3]]\n",
      "\n",
      "  [[4 0 0]\n",
      "   [1 0 3]\n",
      "   [3 3 0]]\n",
      "\n",
      "  [[0 0 4]\n",
      "   [0 3 1]\n",
      "   [3 0 0]]\n",
      "\n",
      "  [[0 4 2]\n",
      "   [3 1 1]\n",
      "   [0 0 1]]\n",
      "\n",
      "  [[4 2 3]\n",
      "   [1 1 4]\n",
      "   [0 1 2]]\n",
      "\n",
      "  [[2 3 0]\n",
      "   [1 4 3]\n",
      "   [1 2 0]]\n",
      "\n",
      "  [[3 0 1]\n",
      "   [4 3 2]\n",
      "   [2 0 0]]\n",
      "\n",
      "  [[0 1 1]\n",
      "   [3 2 0]\n",
      "   [0 0 2]]]\n",
      "\n",
      "\n",
      " [[[0 1 0]\n",
      "   [1 3 3]\n",
      "   [2 2 2]]\n",
      "\n",
      "  [[1 0 3]\n",
      "   [3 3 0]\n",
      "   [2 2 3]]\n",
      "\n",
      "  [[0 3 1]\n",
      "   [3 0 0]\n",
      "   [2 3 1]]\n",
      "\n",
      "  [[3 1 1]\n",
      "   [0 0 1]\n",
      "   [3 1 0]]\n",
      "\n",
      "  [[1 1 4]\n",
      "   [0 1 2]\n",
      "   [1 0 1]]\n",
      "\n",
      "  [[1 4 3]\n",
      "   [1 2 0]\n",
      "   [0 1 0]]\n",
      "\n",
      "  [[4 3 2]\n",
      "   [2 0 0]\n",
      "   [1 0 0]]\n",
      "\n",
      "  [[3 2 0]\n",
      "   [0 0 2]\n",
      "   [0 0 2]]]\n",
      "\n",
      "\n",
      " [[[1 3 3]\n",
      "   [2 2 2]\n",
      "   [4 4 2]]\n",
      "\n",
      "  [[3 3 0]\n",
      "   [2 2 3]\n",
      "   [4 2 4]]\n",
      "\n",
      "  [[3 0 0]\n",
      "   [2 3 1]\n",
      "   [2 4 3]]\n",
      "\n",
      "  [[0 0 1]\n",
      "   [3 1 0]\n",
      "   [4 3 0]]\n",
      "\n",
      "  [[0 1 2]\n",
      "   [1 0 1]\n",
      "   [3 0 0]]\n",
      "\n",
      "  [[1 2 0]\n",
      "   [0 1 0]\n",
      "   [0 0 4]]\n",
      "\n",
      "  [[2 0 0]\n",
      "   [1 0 0]\n",
      "   [0 4 1]]\n",
      "\n",
      "  [[0 0 2]\n",
      "   [0 0 2]\n",
      "   [4 1 0]]]\n",
      "\n",
      "\n",
      " [[[2 2 2]\n",
      "   [4 4 2]\n",
      "   [4 1 3]]\n",
      "\n",
      "  [[2 2 3]\n",
      "   [4 2 4]\n",
      "   [1 3 1]]\n",
      "\n",
      "  [[2 3 1]\n",
      "   [2 4 3]\n",
      "   [3 1 3]]\n",
      "\n",
      "  [[3 1 0]\n",
      "   [4 3 0]\n",
      "   [1 3 0]]\n",
      "\n",
      "  [[1 0 1]\n",
      "   [3 0 0]\n",
      "   [3 0 4]]\n",
      "\n",
      "  [[0 1 0]\n",
      "   [0 0 4]\n",
      "   [0 4 4]]\n",
      "\n",
      "  [[1 0 0]\n",
      "   [0 4 1]\n",
      "   [4 4 4]]\n",
      "\n",
      "  [[0 0 2]\n",
      "   [4 1 0]\n",
      "   [4 4 4]]]\n",
      "\n",
      "\n",
      " [[[4 4 2]\n",
      "   [4 1 3]\n",
      "   [0 4 3]]\n",
      "\n",
      "  [[4 2 4]\n",
      "   [1 3 1]\n",
      "   [4 3 4]]\n",
      "\n",
      "  [[2 4 3]\n",
      "   [3 1 3]\n",
      "   [3 4 4]]\n",
      "\n",
      "  [[4 3 0]\n",
      "   [1 3 0]\n",
      "   [4 4 1]]\n",
      "\n",
      "  [[3 0 0]\n",
      "   [3 0 4]\n",
      "   [4 1 0]]\n",
      "\n",
      "  [[0 0 4]\n",
      "   [0 4 4]\n",
      "   [1 0 4]]\n",
      "\n",
      "  [[0 4 1]\n",
      "   [4 4 4]\n",
      "   [0 4 2]]\n",
      "\n",
      "  [[4 1 0]\n",
      "   [4 4 4]\n",
      "   [4 2 4]]]\n",
      "\n",
      "\n",
      " [[[4 1 3]\n",
      "   [0 4 3]\n",
      "   [4 3 4]]\n",
      "\n",
      "  [[1 3 1]\n",
      "   [4 3 4]\n",
      "   [3 4 3]]\n",
      "\n",
      "  [[3 1 3]\n",
      "   [3 4 4]\n",
      "   [4 3 1]]\n",
      "\n",
      "  [[1 3 0]\n",
      "   [4 4 1]\n",
      "   [3 1 3]]\n",
      "\n",
      "  [[3 0 4]\n",
      "   [4 1 0]\n",
      "   [1 3 0]]\n",
      "\n",
      "  [[0 4 4]\n",
      "   [1 0 4]\n",
      "   [3 0 3]]\n",
      "\n",
      "  [[4 4 4]\n",
      "   [0 4 2]\n",
      "   [0 3 4]]\n",
      "\n",
      "  [[4 4 4]\n",
      "   [4 2 4]\n",
      "   [3 4 2]]]\n",
      "\n",
      "\n",
      " [[[0 4 3]\n",
      "   [4 3 4]\n",
      "   [2 1 4]]\n",
      "\n",
      "  [[4 3 4]\n",
      "   [3 4 3]\n",
      "   [1 4 0]]\n",
      "\n",
      "  [[3 4 4]\n",
      "   [4 3 1]\n",
      "   [4 0 3]]\n",
      "\n",
      "  [[4 4 1]\n",
      "   [3 1 3]\n",
      "   [0 3 3]]\n",
      "\n",
      "  [[4 1 0]\n",
      "   [1 3 0]\n",
      "   [3 3 1]]\n",
      "\n",
      "  [[1 0 4]\n",
      "   [3 0 3]\n",
      "   [3 1 0]]\n",
      "\n",
      "  [[0 4 2]\n",
      "   [0 3 4]\n",
      "   [1 0 2]]\n",
      "\n",
      "  [[4 2 4]\n",
      "   [3 4 2]\n",
      "   [0 2 4]]]\n",
      "\n",
      "\n",
      " [[[4 3 4]\n",
      "   [2 1 4]\n",
      "   [4 1 3]]\n",
      "\n",
      "  [[3 4 3]\n",
      "   [1 4 0]\n",
      "   [1 3 1]]\n",
      "\n",
      "  [[4 3 1]\n",
      "   [4 0 3]\n",
      "   [3 1 4]]\n",
      "\n",
      "  [[3 1 3]\n",
      "   [0 3 3]\n",
      "   [1 4 0]]\n",
      "\n",
      "  [[1 3 0]\n",
      "   [3 3 1]\n",
      "   [4 0 4]]\n",
      "\n",
      "  [[3 0 3]\n",
      "   [3 1 0]\n",
      "   [0 4 1]]\n",
      "\n",
      "  [[0 3 4]\n",
      "   [1 0 2]\n",
      "   [4 1 1]]\n",
      "\n",
      "  [[3 4 2]\n",
      "   [0 2 4]\n",
      "   [1 1 3]]]]\n"
     ]
    }
   ],
   "source": [
    "#84. Extract all the contiguous 3x3 blocks from a random 10x10 matrix\n",
    "R = np.random.randint(0,5,(10,10))\n",
    "n = 3\n",
    "i = 1 + (R.shape[0]-3)\n",
    "j = 1 + (R.shape[1]-3)\n",
    "C = stride_tricks.as_strided(R, shape=(i, j, n, n), strides=R.strides + R.strides)\n",
    "print(C)"
   ]
  },
  {
   "cell_type": "code",
   "execution_count": 59,
   "id": "3f522e35",
   "metadata": {},
   "outputs": [
    {
     "name": "stdout",
     "output_type": "stream",
     "text": [
      "[[ 7  7  8 16  9]\n",
      " [ 7  1 10 16  8]\n",
      " [ 8 10  3 42 11]\n",
      " [16 16 42  2  8]\n",
      " [ 9  8 11  8  4]]\n"
     ]
    }
   ],
   "source": [
    "#85. Create a 2D array subclass such that Z[i,j] == Z[j,i]\n",
    "class Symetric(np.ndarray):\n",
    "    def __setitem__(self, index, value):\n",
    "        i,j = index\n",
    "        super(Symetric, self).__setitem__((i,j), value)\n",
    "        super(Symetric, self).__setitem__((j,i), value)\n",
    "\n",
    "def symetric(Z):\n",
    "    return np.asarray(Z + Z.T - np.diag(Z.diagonal())).view(Symetric)\n",
    "\n",
    "S = symetric(np.random.randint(0,10,(5,5)))\n",
    "S[2,3] = 42\n",
    "print(S)\n"
   ]
  },
  {
   "cell_type": "code",
   "execution_count": 177,
   "id": "2c182f3a",
   "metadata": {},
   "outputs": [
    {
     "name": "stdout",
     "output_type": "stream",
     "text": [
      "[[200.]\n",
      " [200.]\n",
      " [200.]\n",
      " [200.]\n",
      " [200.]\n",
      " [200.]\n",
      " [200.]\n",
      " [200.]\n",
      " [200.]\n",
      " [200.]\n",
      " [200.]\n",
      " [200.]\n",
      " [200.]\n",
      " [200.]\n",
      " [200.]\n",
      " [200.]\n",
      " [200.]\n",
      " [200.]\n",
      " [200.]\n",
      " [200.]]\n"
     ]
    }
   ],
   "source": [
    "#86. Consider a set of p matrices with shape (n,n) and a set of p vectors with shape (n,1). How to compute the sum of of the p matrix products at once? (result has shape (n,1)) \n",
    "p, n = 10, 20\n",
    "A = np.ones((p,n,n))\n",
    "B = np.ones((p,n,1))\n",
    "S = np.tensordot(A, B, axes=[[0, 2], [0, 1]])\n",
    "print(S)"
   ]
  },
  {
   "cell_type": "code",
   "execution_count": 178,
   "id": "d6edf2a6",
   "metadata": {},
   "outputs": [
    {
     "name": "stdout",
     "output_type": "stream",
     "text": [
      "[[16. 16. 16. 16.]\n",
      " [16. 16. 16. 16.]\n",
      " [16. 16. 16. 16.]\n",
      " [16. 16. 16. 16.]]\n"
     ]
    }
   ],
   "source": [
    "#87. Consider a 16x16 array, how to get the block-sum (block size is 4x4)?\n",
    "R = np.ones((16,16))\n",
    "k = 4\n",
    "S = np.add.reduceat(np.add.reduceat(R, np.arange(0, R.shape[0], k), axis=0),\n",
    "                                       np.arange(0, R.shape[1], k), axis=1)\n",
    "print(S)\n",
    "\n",
    "# alternative solution:\n",
    "# Author: Sebastian Wallkötter (@FirefoxMetzger)\n",
    "\n",
    "R = np.ones((16,16))\n",
    "k = 4\n",
    "\n",
    "windows = np.lib.stride_tricks.sliding_window_view(R, (k, k))\n",
    "S = windows[::k, ::k, ...].sum(axis=(-2, -1))"
   ]
  },
  {
   "cell_type": "code",
   "execution_count": 180,
   "id": "8dbb178c",
   "metadata": {},
   "outputs": [
    {
     "name": "stdout",
     "output_type": "stream",
     "text": [
      "[[0 0 0 0 0 0 0 0 0 0 0 0 0 0 0 0 0 0 0 0 0 0 0 0 0 0 0 0 0 0 0 0 0 0 0 0\n",
      "  0 0 0 0 0 0 0 0 0 0 0 0 0 0]\n",
      " [0 0 0 0 0 0 0 0 0 0 0 0 0 0 0 0 0 0 0 0 0 0 0 0 0 0 0 0 0 0 0 0 0 0 0 0\n",
      "  0 0 0 0 0 0 0 0 0 0 0 0 0 0]\n",
      " [0 0 0 0 0 0 0 0 0 0 0 0 0 0 0 0 0 0 0 0 0 0 0 0 0 0 0 0 0 0 0 0 0 0 0 0\n",
      "  0 0 0 0 0 0 0 0 0 0 0 0 0 0]\n",
      " [0 0 0 0 0 0 0 0 0 0 0 0 0 0 0 0 0 0 0 0 0 0 0 0 0 0 0 0 0 0 0 0 0 0 0 0\n",
      "  0 0 0 0 0 0 0 0 0 0 0 0 0 0]\n",
      " [0 0 0 0 1 1 0 0 0 0 0 0 0 0 0 0 0 0 0 0 0 0 0 0 0 0 0 0 0 0 0 0 0 0 0 0\n",
      "  0 0 0 0 0 0 0 0 0 0 0 0 0 0]\n",
      " [0 0 0 0 1 1 1 1 0 0 0 0 0 0 0 0 0 0 0 0 0 0 0 0 0 0 0 0 0 0 0 0 0 0 0 0\n",
      "  0 0 0 0 0 0 0 0 0 0 0 0 0 0]\n",
      " [0 0 1 1 0 1 1 0 1 0 0 0 0 0 0 0 0 0 0 0 0 0 0 0 0 0 0 0 0 0 0 0 0 0 0 0\n",
      "  0 0 0 1 1 0 0 0 0 0 0 0 0 0]\n",
      " [0 0 1 1 1 0 0 0 1 1 0 0 0 0 0 0 0 0 0 0 0 0 0 0 0 0 0 0 0 0 0 0 0 0 0 0\n",
      "  0 0 0 1 1 0 0 0 0 0 0 0 0 0]\n",
      " [0 0 0 1 1 0 0 1 1 1 0 0 0 0 0 0 0 0 0 0 0 0 0 0 0 0 0 0 0 0 0 0 0 0 0 0\n",
      "  0 0 1 0 0 0 0 0 1 0 0 0 0 0]\n",
      " [0 0 0 1 1 0 0 0 1 0 0 0 0 0 0 0 0 0 0 0 0 0 0 0 0 0 0 0 0 0 0 0 0 0 0 0\n",
      "  0 0 1 0 1 1 0 1 1 1 0 0 0 0]\n",
      " [0 0 0 0 1 1 1 1 0 0 0 0 0 0 0 0 0 0 0 0 0 0 0 0 0 0 0 0 0 0 0 0 0 0 0 0\n",
      "  0 0 0 0 1 0 0 1 1 1 0 0 0 0]\n",
      " [0 0 0 0 1 0 0 0 1 0 0 0 0 0 0 0 0 0 0 0 0 0 0 0 0 0 0 0 0 0 0 0 0 0 0 0\n",
      "  0 0 0 0 0 0 0 0 0 0 0 0 0 0]\n",
      " [0 0 0 0 0 0 0 1 1 0 0 0 0 0 0 0 0 0 0 0 0 0 0 0 0 0 0 0 0 0 0 0 0 0 0 0\n",
      "  0 0 0 0 0 0 0 0 0 0 0 0 0 0]\n",
      " [0 0 0 0 1 1 0 0 0 1 0 0 0 0 0 0 0 0 0 0 0 0 0 0 0 0 0 0 0 0 0 0 0 0 0 0\n",
      "  0 0 0 0 0 0 0 0 0 0 0 0 0 0]\n",
      " [0 0 0 1 0 1 0 0 0 1 1 0 0 0 0 0 0 0 0 0 0 0 0 0 0 0 0 0 0 0 0 0 0 0 0 0\n",
      "  0 0 0 0 0 0 0 0 0 0 0 0 0 0]\n",
      " [0 0 0 0 1 1 0 1 0 0 0 0 0 0 0 0 0 0 0 0 0 0 0 0 0 0 0 0 0 0 0 0 0 0 0 0\n",
      "  0 0 0 0 0 0 0 0 0 0 0 0 0 0]\n",
      " [0 0 0 0 0 1 1 0 0 0 0 0 0 0 0 0 0 0 0 0 1 0 0 0 0 0 0 0 0 0 0 0 0 0 0 0\n",
      "  0 0 0 0 0 0 0 0 0 0 0 0 0 0]\n",
      " [0 0 0 0 0 0 1 0 0 0 0 0 0 0 0 0 0 0 0 0 1 0 0 0 0 0 0 0 0 0 0 0 0 0 0 0\n",
      "  0 0 0 0 0 0 0 0 0 0 0 0 0 0]\n",
      " [0 0 0 0 0 0 0 0 0 0 0 0 0 0 0 0 0 0 0 0 1 0 0 0 0 0 0 0 0 0 0 0 0 0 0 0\n",
      "  0 0 0 0 0 0 0 0 0 0 0 0 0 0]\n",
      " [0 0 0 0 0 0 0 0 0 0 0 0 0 0 0 0 0 0 0 0 0 0 0 0 0 0 0 0 0 0 0 0 0 0 0 0\n",
      "  0 0 1 1 0 0 0 0 0 0 0 0 0 0]\n",
      " [0 0 0 0 0 0 0 0 0 0 0 0 0 0 0 0 0 0 0 0 0 0 1 1 1 0 0 0 0 0 0 0 0 0 0 0\n",
      "  0 1 0 0 1 0 0 0 0 0 0 0 0 0]\n",
      " [0 0 0 0 0 0 0 0 0 0 0 0 0 0 0 0 0 0 0 0 0 0 0 0 0 0 0 0 0 0 0 0 0 0 0 0\n",
      "  0 1 0 0 1 0 0 0 0 0 0 0 0 0]\n",
      " [0 0 0 0 0 0 0 0 0 0 0 0 0 0 0 0 0 0 0 0 0 0 0 0 0 0 0 0 0 0 0 0 0 0 0 0\n",
      "  0 0 1 1 0 0 0 0 0 0 0 0 0 0]\n",
      " [0 0 0 0 0 0 0 0 0 0 0 0 0 0 0 0 0 0 0 0 0 0 0 0 1 0 0 0 0 0 0 0 0 0 0 0\n",
      "  0 1 1 0 0 0 0 0 0 0 0 0 0 0]\n",
      " [0 0 0 0 0 0 0 0 0 0 1 1 0 0 0 0 0 0 0 0 0 0 0 0 1 0 0 0 0 0 0 0 0 0 0 0\n",
      "  1 1 0 0 0 0 0 0 0 0 0 0 0 0]\n",
      " [0 0 0 0 0 0 0 0 0 1 0 0 1 0 0 0 0 0 0 0 0 0 0 0 1 0 0 0 0 0 0 0 0 0 0 1\n",
      "  0 1 0 0 0 0 0 0 0 0 0 0 0 0]\n",
      " [0 0 0 0 0 0 0 0 0 1 0 1 0 0 0 0 0 0 0 0 0 0 0 0 0 0 0 0 0 0 0 0 0 0 1 1\n",
      "  1 0 0 0 0 0 0 0 0 0 0 0 0 0]\n",
      " [0 0 0 0 0 0 0 0 0 0 1 0 0 0 0 0 0 0 0 0 1 1 1 0 0 0 1 1 1 0 0 0 0 0 1 1\n",
      "  0 1 0 0 0 0 0 0 0 0 0 0 0 0]\n",
      " [0 0 0 0 0 0 0 0 0 0 0 0 0 0 0 0 0 0 0 0 0 0 0 0 0 0 0 0 0 0 0 0 0 0 1 0\n",
      "  0 1 0 0 0 0 0 0 0 0 0 0 0 0]\n",
      " [0 0 0 0 0 1 1 1 0 0 0 0 0 0 0 0 0 0 0 0 0 0 0 0 1 0 0 0 0 0 0 0 0 0 0 0\n",
      "  0 0 0 0 0 0 0 0 0 0 0 0 0 0]\n",
      " [0 0 0 0 0 0 0 0 0 0 0 0 0 0 0 0 0 0 0 0 0 0 0 0 1 0 0 0 0 0 0 0 0 0 1 0\n",
      "  1 0 0 0 0 0 0 0 0 0 0 0 0 0]\n",
      " [0 0 0 0 0 0 0 0 0 0 0 0 0 0 0 0 0 0 0 0 0 0 0 0 1 0 0 0 0 0 0 0 0 0 0 1\n",
      "  0 0 0 0 1 1 0 0 0 0 0 0 0 0]\n",
      " [0 0 0 0 0 0 0 0 0 0 0 0 0 0 0 0 0 0 0 0 0 0 0 0 0 0 0 0 0 0 0 0 0 0 0 0\n",
      "  0 0 0 0 0 0 0 0 0 0 0 0 0 0]\n",
      " [0 0 0 0 0 0 0 0 0 0 0 0 0 0 0 0 0 0 0 0 0 0 0 0 0 0 0 0 0 0 0 0 0 0 0 0\n",
      "  0 0 0 0 0 0 0 0 0 0 0 0 0 0]\n",
      " [0 0 0 0 0 0 0 0 0 0 0 0 0 0 0 0 0 0 0 0 0 0 0 0 0 0 0 0 0 0 0 0 0 0 0 0\n",
      "  0 0 0 0 0 0 0 0 0 0 0 0 0 0]\n",
      " [0 0 0 0 0 0 0 0 0 0 0 1 1 0 0 0 0 0 0 0 0 0 0 0 0 0 0 0 0 0 0 0 0 0 0 0\n",
      "  0 0 0 0 0 0 0 0 0 0 0 0 0 0]\n",
      " [0 0 0 0 0 0 0 0 0 0 1 0 0 1 0 0 0 0 0 0 0 0 0 0 0 0 0 0 0 0 0 0 0 0 0 0\n",
      "  0 0 0 0 0 0 0 0 0 0 0 0 0 0]\n",
      " [0 0 0 0 0 0 0 0 0 0 0 1 1 0 0 0 0 0 0 0 0 0 0 0 0 0 0 0 0 0 0 0 0 0 0 0\n",
      "  0 0 0 0 0 0 0 0 0 0 0 0 0 0]\n",
      " [0 0 0 0 0 0 0 0 0 0 0 0 0 0 0 0 0 0 0 0 0 0 0 0 0 0 0 0 0 0 0 0 0 0 0 0\n",
      "  0 0 0 0 0 0 0 0 0 0 1 1 0 0]\n",
      " [0 0 0 0 0 0 0 0 0 0 0 0 0 0 0 0 0 0 0 0 0 0 0 0 0 0 0 0 0 0 0 0 0 0 0 0\n",
      "  0 0 0 0 0 0 0 0 0 0 1 1 0 0]\n",
      " [0 0 0 0 0 0 0 0 0 0 0 0 0 0 0 0 0 0 0 0 0 0 0 0 0 0 0 0 0 0 0 0 0 0 0 0\n",
      "  0 0 0 0 0 0 0 0 0 0 0 0 0 0]\n",
      " [0 0 0 0 0 0 0 0 0 0 0 0 0 0 0 0 0 0 0 0 0 0 0 0 0 0 0 0 0 0 0 0 0 0 0 0\n",
      "  0 0 0 0 0 0 0 0 0 0 0 0 0 0]\n",
      " [0 0 0 0 0 0 0 0 0 0 0 0 0 0 0 0 0 0 0 0 0 0 0 0 0 0 0 0 0 0 0 0 1 1 0 0\n",
      "  0 0 0 0 0 0 0 0 0 0 0 0 0 0]\n",
      " [0 0 0 0 0 0 0 0 0 0 0 0 0 0 0 0 0 0 0 0 0 0 0 0 0 1 1 1 0 0 0 0 1 0 1 0\n",
      "  0 0 0 0 0 0 0 0 0 0 0 0 0 0]\n",
      " [0 0 0 0 0 0 0 0 0 0 0 0 0 0 0 0 0 0 0 0 0 0 0 0 0 0 0 0 0 0 0 0 0 1 1 0\n",
      "  0 0 0 0 0 0 0 0 1 1 0 0 0 0]\n",
      " [0 0 0 0 0 0 0 0 0 0 0 1 0 0 0 0 0 0 0 0 0 0 0 0 0 0 0 0 0 0 0 0 0 0 0 0\n",
      "  0 0 0 0 0 0 0 1 0 0 1 0 0 0]\n",
      " [0 0 0 0 0 0 0 0 0 0 1 0 1 0 0 0 0 0 0 0 0 0 0 0 0 0 0 0 0 0 0 0 0 0 0 0\n",
      "  0 0 0 0 0 0 0 0 1 1 0 0 0 0]\n",
      " [0 0 0 0 0 0 0 0 0 1 0 0 1 0 0 0 0 0 0 0 0 0 0 0 0 0 0 0 0 0 0 0 0 0 0 0\n",
      "  0 0 0 0 0 0 0 0 0 0 0 0 0 0]\n",
      " [0 0 0 0 0 0 0 0 0 0 1 1 0 0 0 0 0 0 0 0 0 0 0 0 0 0 0 0 0 0 0 0 0 0 0 0\n",
      "  0 0 0 0 0 0 0 0 0 0 0 0 0 0]\n",
      " [0 0 0 0 0 0 0 0 0 0 0 0 0 0 0 0 0 0 0 0 0 0 0 0 0 0 0 0 0 0 0 0 0 0 0 0\n",
      "  0 0 0 0 0 0 0 0 0 0 0 0 0 0]]\n"
     ]
    }
   ],
   "source": [
    "#88. How to implement the Game of Life using numpy arrays?\n",
    "def iterate(R):\n",
    "    # Count neighbours\n",
    "    N = (R[0:-2,0:-2] + R[0:-2,1:-1] + R[0:-2,2:] +\n",
    "         R[1:-1,0:-2]                + R[1:-1,2:] +\n",
    "         R[2:  ,0:-2] + R[2:  ,1:-1] + R[2:  ,2:])\n",
    "\n",
    "   \n",
    "    birth = (N==3) & (R[1:-1,1:-1]==0)\n",
    "    survive = ((N==2) | (N==3)) & (R[1:-1,1:-1]==1)\n",
    "    R[...] = 0\n",
    "    R[1:-1,1:-1][birth | survive] = 1\n",
    "    return R\n",
    "\n",
    "R = np.random.randint(0,2,(50,50))\n",
    "for i in range(100): R = iterate(R)\n",
    "print(R)"
   ]
  },
  {
   "cell_type": "code",
   "execution_count": 183,
   "id": "4f6356ac",
   "metadata": {},
   "outputs": [
    {
     "name": "stdout",
     "output_type": "stream",
     "text": [
      "[9995 9996 9997 9998 9999]\n",
      "[9995 9999 9996 9997 9998]\n"
     ]
    }
   ],
   "source": [
    "#89. How to get the n largest values of an array\n",
    "R = np.arange(10000)\n",
    "np.random.shuffle(R)\n",
    "n = 5\n",
    "\n",
    "# Slow\n",
    "print (R[np.argsort(R)[-n:]])\n",
    "\n",
    "# Fast\n",
    "print (R[np.argpartition(-R,n)[:n]])"
   ]
  },
  {
   "cell_type": "code",
   "execution_count": 184,
   "id": "95383ce8",
   "metadata": {},
   "outputs": [
    {
     "name": "stdout",
     "output_type": "stream",
     "text": [
      "[[1 4 6]\n",
      " [1 4 7]\n",
      " [1 5 6]\n",
      " [1 5 7]\n",
      " [2 4 6]\n",
      " [2 4 7]\n",
      " [2 5 6]\n",
      " [2 5 7]\n",
      " [3 4 6]\n",
      " [3 4 7]\n",
      " [3 5 6]\n",
      " [3 5 7]]\n"
     ]
    }
   ],
   "source": [
    "#90. Given an arbitrary number of vectors, build the cartesian product (every combinations of every item)\n",
    "def cartesian(arrays):\n",
    "    arrays = [np.asarray(a) for a in arrays]\n",
    "    shape = (len(x) for x in arrays)\n",
    "\n",
    "    ix = np.indices(shape, dtype=int)\n",
    "    ix = ix.reshape(len(arrays), -1).T\n",
    "\n",
    "    for n, arr in enumerate(arrays):\n",
    "        ix[:, n] = arrays[n][ix[:, n]]\n",
    "\n",
    "    return ix\n",
    "\n",
    "print (cartesian(([1, 2, 3], [4, 5], [6, 7])))\n"
   ]
  },
  {
   "cell_type": "code",
   "execution_count": 186,
   "id": "0fb187c8",
   "metadata": {},
   "outputs": [
    {
     "name": "stdout",
     "output_type": "stream",
     "text": [
      "[(b'Hello', 2.5, 3) (b'World!', 3.6, 2)]\n"
     ]
    }
   ],
   "source": [
    "#91. How to create a record array from a regular array?\n",
    "P = np.array([(\"Hello\", 2.5, 3),\n",
    "              (\"World!\", 3.6, 2)])\n",
    "Q = np.core.records.fromarrays(P.T,\n",
    "                               names='col1, col2, col3',\n",
    "                               formats = 'S8, f8, i8')\n",
    "print(Q)"
   ]
  },
  {
   "cell_type": "code",
   "execution_count": 193,
   "id": "0893e1a4",
   "metadata": {},
   "outputs": [
    {
     "name": "stdout",
     "output_type": "stream",
     "text": [
      "1.26 s ± 21.5 ms per loop (mean ± std. dev. of 7 runs, 1 loop each)\n",
      "269 ms ± 15 ms per loop (mean ± std. dev. of 7 runs, 1 loop each)\n",
      "147 ms ± 3.76 ms per loop (mean ± std. dev. of 7 runs, 10 loops each)\n"
     ]
    }
   ],
   "source": [
    "#92. Consider a large vector Z, compute Z to the power of 3 using 3 different methods\n",
    "z = np.random.rand(int(5e7))\n",
    "\n",
    "%timeit np.power(z,3)\n",
    "%timeit z*z*z\n",
    "%timeit np.einsum('i,i,i->i',z,z,z)"
   ]
  },
  {
   "cell_type": "code",
   "execution_count": 69,
   "id": "d2706671",
   "metadata": {},
   "outputs": [
    {
     "name": "stdout",
     "output_type": "stream",
     "text": [
      "[0 1 2 3 4 7]\n"
     ]
    }
   ],
   "source": [
    "#93. Consider two arrays A and B of shape (8,3) and (2,2). How to find rows of A that contain elements of each row of B regardless of the order of the elements in B?\n",
    "A = np.random.randint(0,5,(8,3))\n",
    "B = np.random.randint(0,5,(2,2))\n",
    "\n",
    "C = (A[..., np.newaxis, np.newaxis] == B)\n",
    "rows = np.where(C.any((3,1)).all(1))[0]\n",
    "print(rows)"
   ]
  },
  {
   "cell_type": "code",
   "execution_count": 194,
   "id": "d284371e",
   "metadata": {},
   "outputs": [
    {
     "name": "stdout",
     "output_type": "stream",
     "text": [
      "[[3 2 4]\n",
      " [0 3 3]\n",
      " [3 3 0]\n",
      " [4 4 2]\n",
      " [1 4 2]\n",
      " [4 0 0]\n",
      " [3 4 3]\n",
      " [3 3 3]\n",
      " [1 2 4]\n",
      " [1 0 4]]\n",
      "[[3 2 4]\n",
      " [0 3 3]\n",
      " [3 3 0]\n",
      " [4 4 2]\n",
      " [1 4 2]\n",
      " [4 0 0]\n",
      " [3 4 3]\n",
      " [1 2 4]\n",
      " [1 0 4]]\n",
      "[[3 2 4]\n",
      " [0 3 3]\n",
      " [3 3 0]\n",
      " [4 4 2]\n",
      " [1 4 2]\n",
      " [4 0 0]\n",
      " [3 4 3]\n",
      " [1 2 4]\n",
      " [1 0 4]]\n"
     ]
    }
   ],
   "source": [
    "#94. Considering a 10x3 matrix, extract rows with unequal values\n",
    "R = np.random.randint(0,5,(10,3))\n",
    "print(R)\n",
    "# solution for arrays of all dtypes (including string arrays and record arrays)\n",
    "E = np.all(R[:,1:] == R[:,:-1], axis=1)\n",
    "U = R[~E]\n",
    "print(U)\n",
    "# solution for numerical arrays only, will work for any number of columns in Z\n",
    "U = R[R.max(axis=1) != R.min(axis=1),:]\n",
    "print(U)"
   ]
  },
  {
   "cell_type": "code",
   "execution_count": 198,
   "id": "e693e545",
   "metadata": {},
   "outputs": [
    {
     "name": "stdout",
     "output_type": "stream",
     "text": [
      "[[0 0 0 0 0 0 0 0]\n",
      " [0 1 0 0 1 1 0 1]\n",
      " [0 0 0 0 1 0 0 1]\n",
      " [0 0 0 0 0 1 1 0]\n",
      " [0 0 0 0 1 1 1 1]\n",
      " [0 0 0 1 0 0 0 1]\n",
      " [0 0 1 0 0 0 0 0]\n",
      " [0 0 1 1 1 1 1 1]\n",
      " [1 0 0 1 1 1 1 0]]\n"
     ]
    }
   ],
   "source": [
    "#95. Convert a vector of ints into a matrix binary representation\n",
    "I = np.array([0, 77, 9, 6, 15, 17, 32, 63, 158])\n",
    "B = ((I.reshape(-1,1) & (2**np.arange(8))) != 0).astype(int)\n",
    "print(B[:,::-1])"
   ]
  },
  {
   "cell_type": "code",
   "execution_count": 199,
   "id": "314dedba",
   "metadata": {},
   "outputs": [
    {
     "name": "stdout",
     "output_type": "stream",
     "text": [
      "[[0 0 0]\n",
      " [0 1 1]\n",
      " [1 0 0]\n",
      " [1 1 0]]\n"
     ]
    }
   ],
   "source": [
    "#96. Given a two dimensional array, how to extract unique rows?\n",
    "R = np.random.randint(0,2,(6,3))\n",
    "T = np.ascontiguousarray(R).view(np.dtype((np.void, R.dtype.itemsize * R.shape[1])))\n",
    "_, idx = np.unique(T, return_index=True)\n",
    "uR = R[idx]\n",
    "print(uR)\n"
   ]
  },
  {
   "cell_type": "code",
   "execution_count": 75,
   "id": "d59615cf",
   "metadata": {},
   "outputs": [
    {
     "data": {
      "text/plain": [
       "array([[0.5142036 , 0.3075406 , 0.34814548, 0.53777121, 0.40382435,\n",
       "        0.2196706 , 0.42295236, 0.75729127, 0.48696804, 0.47619888],\n",
       "       [0.49531803, 0.29624531, 0.33535886, 0.51802005, 0.38899276,\n",
       "        0.21160258, 0.40741824, 0.72947762, 0.46908277, 0.45870914],\n",
       "       [0.35530362, 0.21250393, 0.24056103, 0.37158833, 0.27903393,\n",
       "        0.15178766, 0.29225097, 0.52327197, 0.33648443, 0.32904318],\n",
       "       [0.17050391, 0.10197687, 0.11544098, 0.17831866, 0.13390344,\n",
       "        0.07284021, 0.14024607, 0.25110895, 0.16147292, 0.15790199],\n",
       "       [0.11674323, 0.06982309, 0.0790419 , 0.12209395, 0.09168306,\n",
       "        0.04987335, 0.09602582, 0.17193312, 0.11055975, 0.10811475],\n",
       "       [0.32482263, 0.19427353, 0.21992365, 0.33971029, 0.25509601,\n",
       "        0.13876601, 0.26717918, 0.47838121, 0.30761791, 0.30081503],\n",
       "       [0.12610665, 0.07542326, 0.08538147, 0.13188652, 0.09903652,\n",
       "        0.05387345, 0.1037276 , 0.18572305, 0.11942722, 0.11678612],\n",
       "       [0.5418542 , 0.32407818, 0.36686653, 0.56668912, 0.42553945,\n",
       "        0.23148309, 0.44569604, 0.79801358, 0.51315408, 0.50180583],\n",
       "       [0.29491077, 0.17638351, 0.1996716 , 0.30842748, 0.23160505,\n",
       "        0.1259875 , 0.24257552, 0.43432865, 0.27929039, 0.27311396],\n",
       "       [0.1943854 , 0.11626018, 0.13161012, 0.20329471, 0.15265851,\n",
       "        0.08304251, 0.15988951, 0.28628031, 0.18408949, 0.1800184 ]])"
      ]
     },
     "execution_count": 75,
     "metadata": {},
     "output_type": "execute_result"
    }
   ],
   "source": [
    "#97. Considering 2 vectors A & B, write the einsum equivalent of inner, outer, sum, and mul function\n",
    "A = np.random.uniform(0,1,10)\n",
    "B = np.random.uniform(0,1,10)\n",
    "\n",
    "np.einsum('i->', A)       # np.sum(A)\n",
    "np.einsum('i,i->i', A, B) # A * B\n",
    "np.einsum('i,i', A, B)    # np.inner(A, B)\n",
    "np.einsum('i,j->ij', A, B)    # np.outer(A, B)"
   ]
  },
  {
   "cell_type": "code",
   "execution_count": 200,
   "id": "da30eca6",
   "metadata": {},
   "outputs": [],
   "source": [
    "#98. Considering a path described by two vectors (X,Y), how to sample it using equidistant samples?\n",
    "phi = np.arange(0, 10*np.pi, 0.1)\n",
    "a = 1\n",
    "x = a*phi*np.cos(phi)\n",
    "y = a*phi*np.sin(phi)\n",
    "\n",
    "dr = (np.diff(x)**2 + np.diff(y)**2)**.5 # segment lengths\n",
    "r = np.zeros_like(x)\n",
    "r[1:] = np.cumsum(dr)                # integrate path\n",
    "r_int = np.linspace(0, r.max(), 200) # regular spaced path\n",
    "x_int = np.interp(r_int, r, x)       # integrate path\n",
    "y_int = np.interp(r_int, r, y)"
   ]
  },
  {
   "cell_type": "code",
   "execution_count": 201,
   "id": "a3073539",
   "metadata": {},
   "outputs": [
    {
     "name": "stdout",
     "output_type": "stream",
     "text": [
      "[[2. 0. 1. 1.]]\n"
     ]
    }
   ],
   "source": [
    "#99. Given an integer n and a 2D array X, select from X the rows which can be interpreted as draws from a multinomial distribution with n degrees, i.e., the rows which only contain integers and which sum to n.\n",
    "X = np.asarray([[1.0, 0.0, 3.0, 8.0],\n",
    "                [2.0, 0.0, 1.0, 1.0],\n",
    "                [1.5, 2.5, 1.0, 0.0]])\n",
    "n = 4\n",
    "M = np.logical_and.reduce(np.mod(X, 1) == 0, axis=-1)\n",
    "M &= (X.sum(axis=-1) == n)\n",
    "print(X[M])"
   ]
  },
  {
   "cell_type": "code",
   "execution_count": 207,
   "id": "fac703ec",
   "metadata": {},
   "outputs": [
    {
     "name": "stdout",
     "output_type": "stream",
     "text": [
      "[-0.24761243  0.15390033]\n"
     ]
    }
   ],
   "source": [
    "#100. Compute bootstrapped 95% confidence intervals for the mean of a 1D array X (i.e., resample the elements of an array with replacement N times, compute the mean of each sample, and then compute percentiles over the means).\n",
    "X = np.random.randn(100) # random 1D array\n",
    "Y = 1000 # number of bootstrap samples\n",
    "idx = np.random.randint(0, X.size, (Y, X.size))\n",
    "means = X[idx].mean(axis=1)\n",
    "confint = np.percentile(means, [2.5, 97.5])\n",
    "print(confint)"
   ]
  }
 ],
 "metadata": {
  "kernelspec": {
   "display_name": "Python 3",
   "language": "python",
   "name": "python3"
  },
  "language_info": {
   "codemirror_mode": {
    "name": "ipython",
    "version": 3
   },
   "file_extension": ".py",
   "mimetype": "text/x-python",
   "name": "python",
   "nbconvert_exporter": "python",
   "pygments_lexer": "ipython3",
   "version": "3.8.8"
  }
 },
 "nbformat": 4,
 "nbformat_minor": 5
}
